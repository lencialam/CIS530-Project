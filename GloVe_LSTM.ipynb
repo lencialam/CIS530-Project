{
  "nbformat": 4,
  "nbformat_minor": 0,
  "metadata": {
    "colab": {
      "name": "Copy of OLIC_Classification_GloVe_LSTM.ipynb",
      "provenance": [],
      "collapsed_sections": []
    },
    "kernelspec": {
      "name": "python3",
      "display_name": "Python 3"
    },
    "accelerator": "GPU"
  },
  "cells": [
    {
      "cell_type": "code",
      "metadata": {
        "id": "6pkvGyUqqCMG",
        "colab": {
          "base_uri": "https://localhost:8080/"
        },
        "outputId": "d4875d39-e6bb-4ee2-f01f-5e621be01ffc"
      },
      "source": [
        "from google.colab import drive\n",
        "drive.mount('/content/drive',force_remount=True)"
      ],
      "execution_count": 1,
      "outputs": [
        {
          "output_type": "stream",
          "text": [
            "Mounted at /content/drive\n"
          ],
          "name": "stdout"
        }
      ]
    },
    {
      "cell_type": "code",
      "metadata": {
        "id": "Nifo-yegqBrd",
        "colab": {
          "base_uri": "https://localhost:8080/"
        },
        "outputId": "02584b7b-bdc8-414b-9628-cafb9385bfc7"
      },
      "source": [
        "cd /content/drive/My Drive/OLID"
      ],
      "execution_count": 2,
      "outputs": [
        {
          "output_type": "stream",
          "text": [
            "/content/drive/My Drive/OLID\n"
          ],
          "name": "stdout"
        }
      ]
    },
    {
      "cell_type": "code",
      "metadata": {
        "id": "PIZVWJBiqPth",
        "colab": {
          "base_uri": "https://localhost:8080/"
        },
        "outputId": "f571f634-9283-473d-d81e-8dd2fa4c9935"
      },
      "source": [
        "ls"
      ],
      "execution_count": 3,
      "outputs": [
        {
          "output_type": "stream",
          "text": [
            "glove.6B.100d.txt  labels-levela.csv       testset-levela.tsv\n",
            "glove.6B.200d.txt  olid-training-v1.0.tsv\n"
          ],
          "name": "stdout"
        }
      ]
    },
    {
      "cell_type": "code",
      "metadata": {
        "id": "fnOwTGAXpLvI",
        "colab": {
          "base_uri": "https://localhost:8080/"
        },
        "outputId": "671530b0-162c-4505-b778-d3db38418421"
      },
      "source": [
        "import numpy as np\n",
        "import re\n",
        "import nltk\n",
        "from nltk.corpus import stopwords\n",
        "import string\n",
        "import pandas as pd\n",
        "from nltk.stem import WordNetLemmatizer\n",
        "from nltk.corpus import stopwords\n",
        "nltk.download('stopwords')\n",
        "nltk.download('wordnet')"
      ],
      "execution_count": 4,
      "outputs": [
        {
          "output_type": "stream",
          "text": [
            "[nltk_data] Downloading package stopwords to /root/nltk_data...\n",
            "[nltk_data]   Unzipping corpora/stopwords.zip.\n",
            "[nltk_data] Downloading package wordnet to /root/nltk_data...\n",
            "[nltk_data]   Unzipping corpora/wordnet.zip.\n"
          ],
          "name": "stdout"
        },
        {
          "output_type": "execute_result",
          "data": {
            "text/plain": [
              "True"
            ]
          },
          "metadata": {
            "tags": []
          },
          "execution_count": 4
        }
      ]
    },
    {
      "cell_type": "code",
      "metadata": {
        "id": "qpYZxDnjpo32"
      },
      "source": [
        "train=pd.read_csv( 'olid-training-v1.0.tsv',sep=\"\\t\")\n",
        "test=pd.read_csv('testset-levela.tsv',sep=\"\\t\")\n",
        "y_test=pd.read_csv( 'labels-levela.csv',header=None).iloc[:,-1]\n",
        "#OFF=0 \n",
        "#NOT=1"
      ],
      "execution_count": 5,
      "outputs": []
    },
    {
      "cell_type": "code",
      "metadata": {
        "id": "reTRftvWpUJk",
        "colab": {
          "base_uri": "https://localhost:8080/"
        },
        "outputId": "11d2e11c-afb6-42c6-fe47-650cb77e7f66"
      },
      "source": [
        "y_train=train['subtask_a']\n",
        "train=train['tweet']\n",
        "test=test['tweet']\n",
        "y_train=pd.factorize(y_train)[0]\n",
        "y_test=pd.factorize(y_test)[0]\n",
        "\n",
        "import collections\n",
        "collections.Counter(y_train)\n",
        "\n",
        "#Counter({0: 4400, 1: 8840})"
      ],
      "execution_count": 6,
      "outputs": [
        {
          "output_type": "execute_result",
          "data": {
            "text/plain": [
              "Counter({0: 4400, 1: 8840})"
            ]
          },
          "metadata": {
            "tags": []
          },
          "execution_count": 6
        }
      ]
    },
    {
      "cell_type": "code",
      "metadata": {
        "id": "0KkTgzF_q4s1"
      },
      "source": [
        "# Creating the training corpus\n",
        "stop_words = set(stopwords.words(\"english\")) \n",
        "lemmatizer = WordNetLemmatizer()\n",
        "corpus_train = []\n",
        "for i in train:\n",
        "    x=i.lower()\n",
        "    x=x.replace('@user','')\n",
        "    x=x.replace('@[\\w\\-]+','')\n",
        "    #x=x.translate(str.maketrans('', '', string.punctuation))\n",
        "    x = re.sub('[^A-Za-z]', ' ', x)\n",
        "    #x=re.sub('\\s+',' ',x)\n",
        "    x=re.sub('http[s]?://(?:[a-zA-Z]|[0-9]|[$-_@.&+]|'\n",
        "        '[!*\\(\\),]|(?:%[0-9a-fA-F][0-9a-fA-F]))+','',x) #url\n",
        "    x = [lemmatizer.lemmatize(token) for token in x.split(\" \")]\n",
        "    x = [word for word in x if not word in stop_words]\n",
        "    x=\" \".join(x)\n",
        "    corpus_train.append(x)    \n",
        "# Creating the training corpus\n",
        "corpus_test = []\n",
        "for i in test:\n",
        "    x=i.lower()\n",
        "    x=x.replace('@user','')\n",
        "    x=x.replace('@[\\w\\-]+','')\n",
        "    #x=x.translate(str.maketrans('', '', string.punctuation))\n",
        "    x = re.sub('[^A-Za-z]', ' ', x)\n",
        "    #x=re.sub('\\s+',' ',x)\n",
        "    x=re.sub('http[s]?://(?:[a-zA-Z]|[0-9]|[$-_@.&+]|'\n",
        "        '[!*\\(\\),]|(?:%[0-9a-fA-F][0-9a-fA-F]))+','',x) #url\n",
        "    x = [lemmatizer.lemmatize(token) for token in x.split(\" \")]\n",
        "    x = [word for word in x if not word in stop_words]\n",
        "    x=\" \".join(x)\n",
        "    corpus_test.append(x) "
      ],
      "execution_count": 7,
      "outputs": []
    },
    {
      "cell_type": "code",
      "metadata": {
        "id": "GyyHvozBq7kf"
      },
      "source": [
        "from keras.preprocessing.text import Tokenizer\n",
        "from keras.preprocessing import sequence\n",
        "max_words = 10000 #frequency of words to be kept\n",
        "max_len = 200\n",
        "\n",
        "tokenize = Tokenizer(num_words=max_words)\n",
        "tokenize.fit_on_texts(corpus_train)\n",
        "sequences = tokenize.texts_to_sequences(corpus_train)\n",
        "word_index = tokenize.word_index\n",
        "sequences_matrix = sequence.pad_sequences(sequences,maxlen=max_len)"
      ],
      "execution_count": 8,
      "outputs": []
    },
    {
      "cell_type": "code",
      "metadata": {
        "id": "TyxVJQ45rSW3",
        "colab": {
          "base_uri": "https://localhost:8080/"
        },
        "outputId": "bbf6d558-103a-48d2-94c1-2d97a92d724b"
      },
      "source": [
        "import os\n",
        "embeddings_index = {}\n",
        "f = open('glove.6B.100d.txt',encoding='utf8')\n",
        "for line in f:\n",
        "    values = line.split()\n",
        "    word = values[0]\n",
        "    coefs = np.asarray(values[1:], dtype='float32')\n",
        "    embeddings_index[word] = coefs\n",
        "f.close()\n",
        "\n",
        "print('Found %s word vectors.' % len(embeddings_index))"
      ],
      "execution_count": 9,
      "outputs": [
        {
          "output_type": "stream",
          "text": [
            "Found 400000 word vectors.\n"
          ],
          "name": "stdout"
        }
      ]
    },
    {
      "cell_type": "code",
      "metadata": {
        "id": "2Dwdxvp1rV6N",
        "colab": {
          "base_uri": "https://localhost:8080/"
        },
        "outputId": "b8ef3cf4-5648-45e1-bd35-c030a298a386"
      },
      "source": [
        "num_words = min(max_words, len(word_index)) + 1\n",
        "print(num_words)\n",
        "\n",
        "embedding_dim = 100\n",
        "\n",
        "# first create a matrix of zeros, this is our embedding matrix\n",
        "embedding_matrix = np.zeros((num_words, embedding_dim))\n",
        "\n",
        "# for each word in out tokenizer lets try to find that work in our w2v model\n",
        "for word, i in word_index.items():\n",
        "    if i > max_words:\n",
        "        continue\n",
        "    embedding_vector = embeddings_index.get(word)\n",
        "    if embedding_vector is not None:\n",
        "        # we found the word - add that words vector to the matrix\n",
        "        embedding_matrix[i] = embedding_vector\n",
        "    else:\n",
        "        # doesn't exist, assign a random vector\n",
        "        embedding_matrix[i] = np.random.randn(embedding_dim)"
      ],
      "execution_count": 10,
      "outputs": [
        {
          "output_type": "stream",
          "text": [
            "10001\n"
          ],
          "name": "stdout"
        }
      ]
    },
    {
      "cell_type": "code",
      "metadata": {
        "id": "HkMkKWsJrzeN",
        "colab": {
          "base_uri": "https://localhost:8080/"
        },
        "outputId": "945874fe-2383-4f16-93d1-d1cde0b015fd"
      },
      "source": [
        "# conda config --add channels conda-forge\n",
        "# conda install keras==2.3.0\n",
        "from keras.models import Sequential\n",
        "from keras.layers import Embedding,LSTM,Dense,Dropout,Bidirectional,GlobalMaxPool1D,GlobalAveragePooling1D, SpatialDropout1D\n",
        "from keras.optimizers import RMSprop\n",
        "from keras.initializers import Constant\n",
        "from sklearn.utils import class_weight\n",
        "import tensorflow as tf\n",
        "\n",
        "model = Sequential()\n",
        "model.add(Embedding(num_words,\n",
        "                    embedding_dim,\n",
        "                    embeddings_initializer=Constant(embedding_matrix),\n",
        "                    input_length=max_len,\n",
        "                    trainable=True))\n",
        "model.add( SpatialDropout1D(0.2))\n",
        "model.add((LSTM(100, return_sequences = True)))\n",
        "model.add(GlobalMaxPool1D())\n",
        "model.add(Dense(80, activation=\"sigmoid\"))\n",
        "model.add(Dense(50, activation=\"relu\"))\n",
        "\n",
        "model.add(Dropout(0.05))\n",
        "model.add(Dense(1, activation=\"sigmoid\"))\n",
        "model.compile(loss='binary_crossentropy', optimizer='rmsprop', metrics=['accuracy'])\n",
        "\n",
        "\n",
        "class_weights = class_weight.compute_class_weight('balanced',np.unique(y_train),y_train)\n",
        "class_weights=dict(enumerate(class_weights))\n",
        "model.fit(sequences_matrix,y_train,batch_size=128,epochs=5,verbose=2,class_weight=class_weights)"
      ],
      "execution_count": 12,
      "outputs": [
        {
          "output_type": "stream",
          "text": [
            "Epoch 1/5\n",
            "104/104 - 33s - loss: 0.6264 - accuracy: 0.6420\n",
            "Epoch 2/5\n",
            "104/104 - 2s - loss: 0.5353 - accuracy: 0.7454\n",
            "Epoch 3/5\n",
            "104/104 - 2s - loss: 0.5079 - accuracy: 0.7599\n",
            "Epoch 4/5\n",
            "104/104 - 2s - loss: 0.4827 - accuracy: 0.7748\n",
            "Epoch 5/5\n",
            "104/104 - 2s - loss: 0.4637 - accuracy: 0.7882\n"
          ],
          "name": "stdout"
        },
        {
          "output_type": "execute_result",
          "data": {
            "text/plain": [
              "<tensorflow.python.keras.callbacks.History at 0x7fb0ce282c90>"
            ]
          },
          "metadata": {
            "tags": []
          },
          "execution_count": 12
        }
      ]
    },
    {
      "cell_type": "code",
      "metadata": {
        "id": "1BD-ntr8rznW",
        "colab": {
          "base_uri": "https://localhost:8080/"
        },
        "outputId": "fdb133e6-77ed-4ea0-8057-c7c64ae3659b"
      },
      "source": [
        "test_sequences = tokenize.texts_to_sequences(corpus_test)\n",
        "test_sequences_matrix = sequence.pad_sequences(test_sequences,maxlen=max_len)\n",
        "print(model.evaluate(test_sequences_matrix,y_test))"
      ],
      "execution_count": 13,
      "outputs": [
        {
          "output_type": "stream",
          "text": [
            "27/27 [==============================] - 1s 6ms/step - loss: 0.4796 - accuracy: 0.7640\n",
            "[0.4795667827129364, 0.7639535069465637]\n"
          ],
          "name": "stdout"
        }
      ]
    },
    {
      "cell_type": "code",
      "metadata": {
        "id": "u-fKEe-4rzp4",
        "colab": {
          "base_uri": "https://localhost:8080/"
        },
        "outputId": "8cc3ed14-7713-46cb-dd85-826bcb2d6e71"
      },
      "source": [
        "from sklearn.metrics import classification_report\n",
        "\n",
        "y_pred = model.predict(test_sequences_matrix, batch_size=128, verbose=1)\n",
        "y_pred_bool = np.argmax(y_pred, axis=1)\n",
        "y_pred = (y_pred > 0.5)\n",
        "\n",
        "print(classification_report(y_test, y_pred))\n"
      ],
      "execution_count": 14,
      "outputs": [
        {
          "output_type": "stream",
          "text": [
            "7/7 [==============================] - 0s 8ms/step\n",
            "              precision    recall  f1-score   support\n",
            "\n",
            "           0       0.55      0.79      0.65       240\n",
            "           1       0.90      0.75      0.82       620\n",
            "\n",
            "    accuracy                           0.76       860\n",
            "   macro avg       0.73      0.77      0.74       860\n",
            "weighted avg       0.80      0.76      0.77       860\n",
            "\n"
          ],
          "name": "stdout"
        }
      ]
    },
    {
      "cell_type": "code",
      "metadata": {
        "id": "72QjwwRRrzsu"
      },
      "source": [
        "import keras\n",
        "keras.backend.clear_session()"
      ],
      "execution_count": 15,
      "outputs": []
    }
  ]
}