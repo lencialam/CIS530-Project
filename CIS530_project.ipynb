{
  "nbformat": 4,
  "nbformat_minor": 0,
  "metadata": {
    "colab": {
      "name": "CIS530_project.ipynb",
      "provenance": [],
      "collapsed_sections": [],
      "toc_visible": true
    },
    "kernelspec": {
      "name": "python3",
      "display_name": "Python 3"
    },
    "language_info": {
      "name": "python"
    },
    "accelerator": "GPU"
  },
  "cells": [
    {
      "cell_type": "markdown",
      "metadata": {
        "id": "4G7wReEnumgc"
      },
      "source": [
        "TO DO:\n",
        "\n",
        "1. Cell 35: df[:1000]\n",
        "\n",
        "How to remove &#128514 from string?\n",
        "\n",
        "remove everything that comes right before @ : !!!!&8220;@selfiequeenbri"
      ]
    },
    {
      "cell_type": "markdown",
      "metadata": {
        "id": "UDDXDMJHfybI"
      },
      "source": [
        "# Hate Speech Classification using BERT"
      ]
    },
    {
      "cell_type": "markdown",
      "metadata": {
        "id": "Sxf0kzgUgBXZ"
      },
      "source": [
        "Our goal here is to create a model that takes a sentence (just like the ones in our dataset) and produces either 0 (indicating the sentence is identified as hate speech) or a 1 (indicating the sentence is identified as offensive language) or a 2 (indicating the sentence is identified as neither)"
      ]
    },
    {
      "cell_type": "markdown",
      "metadata": {
        "id": "CeFyQNtLgNjI"
      },
      "source": [
        "##Our baseline is composed of two parts:\n",
        "\n",
        "1. DistilBERT processes the sentence and generates an embedding matrix to be used in the classifier. DistilBERT is a smaller version of BERT developed and open sourced by the team at HuggingFace. It’s a lighter and faster version of BERT that roughly matches its performance.\n",
        "2. The classifier we use as a baseline is a basic Logistic Regression model that will take in the result of DistilBERT’s processing, and classify the sentence as either hate speech, offensive language, neither (0, 1, or 2, respectively).\n",
        "\n",
        "The data we pass between the two models is a vector of size 768. We can think of this vector as an embedding for the sentence that we can use for classification."
      ]
    },
    {
      "cell_type": "code",
      "metadata": {
        "colab": {
          "base_uri": "https://localhost:8080/"
        },
        "id": "fjj4NQfq2QF0",
        "outputId": "83ad7911-a35b-4b64-c2d1-42aafb8a9b54"
      },
      "source": [
        "import re\n",
        "import html\n",
        "import numpy as np\n",
        "import pandas as pd\n",
        "import torch\n",
        "!pip3 install transformers\n",
        "import transformers as ppb # pytorch transformers\n",
        "from sklearn.linear_model import LogisticRegression\n",
        "from sklearn.model_selection import cross_val_score\n",
        "from sklearn.model_selection import train_test_split"
      ],
      "execution_count": null,
      "outputs": [
        {
          "output_type": "stream",
          "text": [
            "Requirement already satisfied: transformers in /usr/local/lib/python3.7/dist-packages (4.5.1)\n",
            "Requirement already satisfied: filelock in /usr/local/lib/python3.7/dist-packages (from transformers) (3.0.12)\n",
            "Requirement already satisfied: sacremoses in /usr/local/lib/python3.7/dist-packages (from transformers) (0.0.44)\n",
            "Requirement already satisfied: regex!=2019.12.17 in /usr/local/lib/python3.7/dist-packages (from transformers) (2019.12.20)\n",
            "Requirement already satisfied: requests in /usr/local/lib/python3.7/dist-packages (from transformers) (2.23.0)\n",
            "Requirement already satisfied: packaging in /usr/local/lib/python3.7/dist-packages (from transformers) (20.9)\n",
            "Requirement already satisfied: tqdm>=4.27 in /usr/local/lib/python3.7/dist-packages (from transformers) (4.41.1)\n",
            "Requirement already satisfied: importlib-metadata; python_version < \"3.8\" in /usr/local/lib/python3.7/dist-packages (from transformers) (3.10.1)\n",
            "Requirement already satisfied: tokenizers<0.11,>=0.10.1 in /usr/local/lib/python3.7/dist-packages (from transformers) (0.10.2)\n",
            "Requirement already satisfied: numpy>=1.17 in /usr/local/lib/python3.7/dist-packages (from transformers) (1.19.5)\n",
            "Requirement already satisfied: six in /usr/local/lib/python3.7/dist-packages (from sacremoses->transformers) (1.15.0)\n",
            "Requirement already satisfied: joblib in /usr/local/lib/python3.7/dist-packages (from sacremoses->transformers) (1.0.1)\n",
            "Requirement already satisfied: click in /usr/local/lib/python3.7/dist-packages (from sacremoses->transformers) (7.1.2)\n",
            "Requirement already satisfied: urllib3!=1.25.0,!=1.25.1,<1.26,>=1.21.1 in /usr/local/lib/python3.7/dist-packages (from requests->transformers) (1.24.3)\n",
            "Requirement already satisfied: chardet<4,>=3.0.2 in /usr/local/lib/python3.7/dist-packages (from requests->transformers) (3.0.4)\n",
            "Requirement already satisfied: certifi>=2017.4.17 in /usr/local/lib/python3.7/dist-packages (from requests->transformers) (2020.12.5)\n",
            "Requirement already satisfied: idna<3,>=2.5 in /usr/local/lib/python3.7/dist-packages (from requests->transformers) (2.10)\n",
            "Requirement already satisfied: pyparsing>=2.0.2 in /usr/local/lib/python3.7/dist-packages (from packaging->transformers) (2.4.7)\n",
            "Requirement already satisfied: zipp>=0.5 in /usr/local/lib/python3.7/dist-packages (from importlib-metadata; python_version < \"3.8\"->transformers) (3.4.1)\n",
            "Requirement already satisfied: typing-extensions>=3.6.4; python_version < \"3.8\" in /usr/local/lib/python3.7/dist-packages (from importlib-metadata; python_version < \"3.8\"->transformers) (3.7.4.3)\n"
          ],
          "name": "stdout"
        }
      ]
    },
    {
      "cell_type": "markdown",
      "metadata": {
        "id": "oDbolQorgS40"
      },
      "source": [
        "# Dataset\n",
        "The dataset we will use in this example is Automated Hate Speech Detection and the Problem of Offensive Language: 24,802 labeled tweets with labels range from hate speech, offensive language, or neither. \n",
        "\n",
        "Source: https://data.world/thomasrdavidson/hate-speech-and-offensive-language\n",
        "\n",
        "1. The data are stored as a CSV and as a pickled pandas dataframe (Python 2.7). Each data file contains 5 columns:\n",
        "\n",
        "- count = number of CrowdFlower users who coded each tweet (min is 3, sometimes more users coded a tweet when judgments were determined to be unreliable by CF).\n",
        "\n",
        "- hate_speech = number of CF users who judged the tweet to be hate speech.\n",
        "\n",
        "- offensive_language = number of CF users who judged the tweet to be offensive.\n",
        "\n",
        "- neither = number of CF users who judged the tweet to be neither offensive nor non-offensive.\n",
        "\n",
        "- class = class label for majority of CF users.\n",
        "0 - hate speech,\n",
        "1 - offensive language,\n",
        "2 - neither"
      ]
    },
    {
      "cell_type": "code",
      "metadata": {
        "colab": {
          "base_uri": "https://localhost:8080/",
          "height": 824
        },
        "id": "iiNlHgcB2XqT",
        "outputId": "b978bbdf-c633-438d-9502-2740d7338240"
      },
      "source": [
        "df = pd.read_csv('labeled_data.csv', index_col=0)\n",
        "df.head(25)"
      ],
      "execution_count": null,
      "outputs": [
        {
          "output_type": "execute_result",
          "data": {
            "text/html": [
              "<div>\n",
              "<style scoped>\n",
              "    .dataframe tbody tr th:only-of-type {\n",
              "        vertical-align: middle;\n",
              "    }\n",
              "\n",
              "    .dataframe tbody tr th {\n",
              "        vertical-align: top;\n",
              "    }\n",
              "\n",
              "    .dataframe thead th {\n",
              "        text-align: right;\n",
              "    }\n",
              "</style>\n",
              "<table border=\"1\" class=\"dataframe\">\n",
              "  <thead>\n",
              "    <tr style=\"text-align: right;\">\n",
              "      <th></th>\n",
              "      <th>count</th>\n",
              "      <th>hate_speech</th>\n",
              "      <th>offensive_language</th>\n",
              "      <th>neither</th>\n",
              "      <th>class</th>\n",
              "      <th>tweet</th>\n",
              "    </tr>\n",
              "  </thead>\n",
              "  <tbody>\n",
              "    <tr>\n",
              "      <th>0</th>\n",
              "      <td>3</td>\n",
              "      <td>0</td>\n",
              "      <td>0</td>\n",
              "      <td>3</td>\n",
              "      <td>2</td>\n",
              "      <td>!!! RT @mayasolovely: As a woman you shouldn't...</td>\n",
              "    </tr>\n",
              "    <tr>\n",
              "      <th>1</th>\n",
              "      <td>3</td>\n",
              "      <td>0</td>\n",
              "      <td>3</td>\n",
              "      <td>0</td>\n",
              "      <td>1</td>\n",
              "      <td>!!!!! RT @mleew17: boy dats cold...tyga dwn ba...</td>\n",
              "    </tr>\n",
              "    <tr>\n",
              "      <th>2</th>\n",
              "      <td>3</td>\n",
              "      <td>0</td>\n",
              "      <td>3</td>\n",
              "      <td>0</td>\n",
              "      <td>1</td>\n",
              "      <td>!!!!!!! RT @UrKindOfBrand Dawg!!!! RT @80sbaby...</td>\n",
              "    </tr>\n",
              "    <tr>\n",
              "      <th>3</th>\n",
              "      <td>3</td>\n",
              "      <td>0</td>\n",
              "      <td>2</td>\n",
              "      <td>1</td>\n",
              "      <td>1</td>\n",
              "      <td>!!!!!!!!! RT @C_G_Anderson: @viva_based she lo...</td>\n",
              "    </tr>\n",
              "    <tr>\n",
              "      <th>4</th>\n",
              "      <td>6</td>\n",
              "      <td>0</td>\n",
              "      <td>6</td>\n",
              "      <td>0</td>\n",
              "      <td>1</td>\n",
              "      <td>!!!!!!!!!!!!! RT @ShenikaRoberts: The shit you...</td>\n",
              "    </tr>\n",
              "    <tr>\n",
              "      <th>5</th>\n",
              "      <td>3</td>\n",
              "      <td>1</td>\n",
              "      <td>2</td>\n",
              "      <td>0</td>\n",
              "      <td>1</td>\n",
              "      <td>!!!!!!!!!!!!!!!!!!\"@T_Madison_x: The shit just...</td>\n",
              "    </tr>\n",
              "    <tr>\n",
              "      <th>6</th>\n",
              "      <td>3</td>\n",
              "      <td>0</td>\n",
              "      <td>3</td>\n",
              "      <td>0</td>\n",
              "      <td>1</td>\n",
              "      <td>!!!!!!\"@__BrighterDays: I can not just sit up ...</td>\n",
              "    </tr>\n",
              "    <tr>\n",
              "      <th>7</th>\n",
              "      <td>3</td>\n",
              "      <td>0</td>\n",
              "      <td>3</td>\n",
              "      <td>0</td>\n",
              "      <td>1</td>\n",
              "      <td>!!!!&amp;#8220;@selfiequeenbri: cause I'm tired of...</td>\n",
              "    </tr>\n",
              "    <tr>\n",
              "      <th>8</th>\n",
              "      <td>3</td>\n",
              "      <td>0</td>\n",
              "      <td>3</td>\n",
              "      <td>0</td>\n",
              "      <td>1</td>\n",
              "      <td>\" &amp;amp; you might not get ya bitch back &amp;amp; ...</td>\n",
              "    </tr>\n",
              "    <tr>\n",
              "      <th>9</th>\n",
              "      <td>3</td>\n",
              "      <td>1</td>\n",
              "      <td>2</td>\n",
              "      <td>0</td>\n",
              "      <td>1</td>\n",
              "      <td>\" @rhythmixx_ :hobbies include: fighting Maria...</td>\n",
              "    </tr>\n",
              "    <tr>\n",
              "      <th>10</th>\n",
              "      <td>3</td>\n",
              "      <td>0</td>\n",
              "      <td>3</td>\n",
              "      <td>0</td>\n",
              "      <td>1</td>\n",
              "      <td>\" Keeks is a bitch she curves everyone \" lol I...</td>\n",
              "    </tr>\n",
              "    <tr>\n",
              "      <th>11</th>\n",
              "      <td>3</td>\n",
              "      <td>0</td>\n",
              "      <td>3</td>\n",
              "      <td>0</td>\n",
              "      <td>1</td>\n",
              "      <td>\" Murda Gang bitch its Gang Land \"</td>\n",
              "    </tr>\n",
              "    <tr>\n",
              "      <th>12</th>\n",
              "      <td>3</td>\n",
              "      <td>0</td>\n",
              "      <td>2</td>\n",
              "      <td>1</td>\n",
              "      <td>1</td>\n",
              "      <td>\" So hoes that smoke are losers ? \" yea ... go...</td>\n",
              "    </tr>\n",
              "    <tr>\n",
              "      <th>13</th>\n",
              "      <td>3</td>\n",
              "      <td>0</td>\n",
              "      <td>3</td>\n",
              "      <td>0</td>\n",
              "      <td>1</td>\n",
              "      <td>\" bad bitches is the only thing that i like \"</td>\n",
              "    </tr>\n",
              "    <tr>\n",
              "      <th>14</th>\n",
              "      <td>3</td>\n",
              "      <td>1</td>\n",
              "      <td>2</td>\n",
              "      <td>0</td>\n",
              "      <td>1</td>\n",
              "      <td>\" bitch get up off me \"</td>\n",
              "    </tr>\n",
              "    <tr>\n",
              "      <th>15</th>\n",
              "      <td>3</td>\n",
              "      <td>0</td>\n",
              "      <td>3</td>\n",
              "      <td>0</td>\n",
              "      <td>1</td>\n",
              "      <td>\" bitch nigga miss me with it \"</td>\n",
              "    </tr>\n",
              "    <tr>\n",
              "      <th>16</th>\n",
              "      <td>3</td>\n",
              "      <td>0</td>\n",
              "      <td>3</td>\n",
              "      <td>0</td>\n",
              "      <td>1</td>\n",
              "      <td>\" bitch plz whatever \"</td>\n",
              "    </tr>\n",
              "    <tr>\n",
              "      <th>17</th>\n",
              "      <td>3</td>\n",
              "      <td>1</td>\n",
              "      <td>2</td>\n",
              "      <td>0</td>\n",
              "      <td>1</td>\n",
              "      <td>\" bitch who do you love \"</td>\n",
              "    </tr>\n",
              "    <tr>\n",
              "      <th>18</th>\n",
              "      <td>3</td>\n",
              "      <td>0</td>\n",
              "      <td>3</td>\n",
              "      <td>0</td>\n",
              "      <td>1</td>\n",
              "      <td>\" bitches get cut off everyday B \"</td>\n",
              "    </tr>\n",
              "    <tr>\n",
              "      <th>19</th>\n",
              "      <td>3</td>\n",
              "      <td>0</td>\n",
              "      <td>3</td>\n",
              "      <td>0</td>\n",
              "      <td>1</td>\n",
              "      <td>\" black bottle &amp;amp; a bad bitch \"</td>\n",
              "    </tr>\n",
              "    <tr>\n",
              "      <th>20</th>\n",
              "      <td>3</td>\n",
              "      <td>0</td>\n",
              "      <td>3</td>\n",
              "      <td>0</td>\n",
              "      <td>1</td>\n",
              "      <td>\" broke bitch cant tell me nothing \"</td>\n",
              "    </tr>\n",
              "    <tr>\n",
              "      <th>21</th>\n",
              "      <td>3</td>\n",
              "      <td>0</td>\n",
              "      <td>3</td>\n",
              "      <td>0</td>\n",
              "      <td>1</td>\n",
              "      <td>\" cancel that bitch like Nino \"</td>\n",
              "    </tr>\n",
              "    <tr>\n",
              "      <th>22</th>\n",
              "      <td>3</td>\n",
              "      <td>0</td>\n",
              "      <td>3</td>\n",
              "      <td>0</td>\n",
              "      <td>1</td>\n",
              "      <td>\" cant you see these hoes wont change \"</td>\n",
              "    </tr>\n",
              "    <tr>\n",
              "      <th>23</th>\n",
              "      <td>3</td>\n",
              "      <td>0</td>\n",
              "      <td>3</td>\n",
              "      <td>0</td>\n",
              "      <td>1</td>\n",
              "      <td>\" fuck no that bitch dont even suck dick \" &amp;#1...</td>\n",
              "    </tr>\n",
              "    <tr>\n",
              "      <th>24</th>\n",
              "      <td>3</td>\n",
              "      <td>0</td>\n",
              "      <td>3</td>\n",
              "      <td>0</td>\n",
              "      <td>1</td>\n",
              "      <td>\" got ya bitch tip toeing on my hardwood floor...</td>\n",
              "    </tr>\n",
              "  </tbody>\n",
              "</table>\n",
              "</div>"
            ],
            "text/plain": [
              "    count  ...                                              tweet\n",
              "0       3  ...  !!! RT @mayasolovely: As a woman you shouldn't...\n",
              "1       3  ...  !!!!! RT @mleew17: boy dats cold...tyga dwn ba...\n",
              "2       3  ...  !!!!!!! RT @UrKindOfBrand Dawg!!!! RT @80sbaby...\n",
              "3       3  ...  !!!!!!!!! RT @C_G_Anderson: @viva_based she lo...\n",
              "4       6  ...  !!!!!!!!!!!!! RT @ShenikaRoberts: The shit you...\n",
              "5       3  ...  !!!!!!!!!!!!!!!!!!\"@T_Madison_x: The shit just...\n",
              "6       3  ...  !!!!!!\"@__BrighterDays: I can not just sit up ...\n",
              "7       3  ...  !!!!&#8220;@selfiequeenbri: cause I'm tired of...\n",
              "8       3  ...  \" &amp; you might not get ya bitch back &amp; ...\n",
              "9       3  ...  \" @rhythmixx_ :hobbies include: fighting Maria...\n",
              "10      3  ...  \" Keeks is a bitch she curves everyone \" lol I...\n",
              "11      3  ...                 \" Murda Gang bitch its Gang Land \"\n",
              "12      3  ...  \" So hoes that smoke are losers ? \" yea ... go...\n",
              "13      3  ...      \" bad bitches is the only thing that i like \"\n",
              "14      3  ...                            \" bitch get up off me \"\n",
              "15      3  ...                    \" bitch nigga miss me with it \"\n",
              "16      3  ...                             \" bitch plz whatever \"\n",
              "17      3  ...                          \" bitch who do you love \"\n",
              "18      3  ...                 \" bitches get cut off everyday B \"\n",
              "19      3  ...                 \" black bottle &amp; a bad bitch \"\n",
              "20      3  ...               \" broke bitch cant tell me nothing \"\n",
              "21      3  ...                    \" cancel that bitch like Nino \"\n",
              "22      3  ...            \" cant you see these hoes wont change \"\n",
              "23      3  ...  \" fuck no that bitch dont even suck dick \" &#1...\n",
              "24      3  ...  \" got ya bitch tip toeing on my hardwood floor...\n",
              "\n",
              "[25 rows x 6 columns]"
            ]
          },
          "metadata": {
            "tags": []
          },
          "execution_count": 3
        }
      ]
    },
    {
      "cell_type": "code",
      "metadata": {
        "colab": {
          "base_uri": "https://localhost:8080/",
          "height": 1000
        },
        "id": "R7MjBL8djKih",
        "outputId": "9d228e77-bd7a-4853-bbd2-be6b9309d31e"
      },
      "source": [
        "#from wordsegment import load, segment # to desegment the words\n",
        "def replace(text):\n",
        "  text = re.sub(r'https?:\\/\\/(www\\.)?[-a-zA-Z0-9@:%._\\+~#=]{2,256}\\.[a-z]{2,6}\\b([-a-zA-Z0-9@:%_\\+.~#?&//=]*)', '', text, flags=re.MULTILINE)\n",
        "  text = re.sub(r'[-a-zA-Z0-9@:%._\\+~#=]{2,256}\\.[a-z]{2,6}\\b([-a-zA-Z0-9@:%_\\+.~#?&//=]*)', '', text, flags=re.MULTILINE) # to remove other url links\n",
        "  text = html.unescape(text)\n",
        "  text = text.lower()\n",
        "  text = re.sub(r\"\\’\", \"\\'\", text)\n",
        "  text = re.sub(r\"won\\'t\", \"will not\", text)\n",
        "  text = re.sub(r\"can\\'t\", \"can not\", text)\n",
        "  text = re.sub(r\"ain\\'t\", \"am not\", text)\n",
        "  text = re.sub(r\"n\\'t\", \" not\", text)\n",
        "  text = re.sub(r\"\\'re\", \" are\", text)\n",
        "  text = re.sub(r\"\\'s\", \"\", text)\n",
        "  text = re.sub(r\"\\'d\", \" would\", text)\n",
        "  text = re.sub(r\"\\'ll\", \" will\", text)\n",
        "  text = re.sub(r\"\\'t\", \" not\", text)\n",
        "  text = re.sub(r\"\\'ve\", \" have\", text)\n",
        "  text = re.sub(r\"\\'m\", \" am\", text)\n",
        "  text = re.sub(r\"(rt @[-a-zA-Z0-9@:%._\\+~#=]+)|(@[-a-zA-Z0-9@:%._\\+~#=]+)|([^0-9A-Za-z \\t])|(\\w+:\\/\\/\\S+)\", \"\", text)\n",
        "  return text\n",
        "\n",
        "df['clean_tweet'] = df['tweet'].apply(lambda x: replace(x))\n",
        "df.head(25)"
      ],
      "execution_count": null,
      "outputs": [
        {
          "output_type": "execute_result",
          "data": {
            "text/html": [
              "<div>\n",
              "<style scoped>\n",
              "    .dataframe tbody tr th:only-of-type {\n",
              "        vertical-align: middle;\n",
              "    }\n",
              "\n",
              "    .dataframe tbody tr th {\n",
              "        vertical-align: top;\n",
              "    }\n",
              "\n",
              "    .dataframe thead th {\n",
              "        text-align: right;\n",
              "    }\n",
              "</style>\n",
              "<table border=\"1\" class=\"dataframe\">\n",
              "  <thead>\n",
              "    <tr style=\"text-align: right;\">\n",
              "      <th></th>\n",
              "      <th>count</th>\n",
              "      <th>hate_speech</th>\n",
              "      <th>offensive_language</th>\n",
              "      <th>neither</th>\n",
              "      <th>class</th>\n",
              "      <th>tweet</th>\n",
              "      <th>clean_tweet</th>\n",
              "    </tr>\n",
              "  </thead>\n",
              "  <tbody>\n",
              "    <tr>\n",
              "      <th>0</th>\n",
              "      <td>3</td>\n",
              "      <td>0</td>\n",
              "      <td>0</td>\n",
              "      <td>3</td>\n",
              "      <td>2</td>\n",
              "      <td>!!! RT @mayasolovely: As a woman you shouldn't...</td>\n",
              "      <td>as a woman you should not complain about cle...</td>\n",
              "    </tr>\n",
              "    <tr>\n",
              "      <th>1</th>\n",
              "      <td>3</td>\n",
              "      <td>0</td>\n",
              "      <td>3</td>\n",
              "      <td>0</td>\n",
              "      <td>1</td>\n",
              "      <td>!!!!! RT @mleew17: boy dats cold...tyga dwn ba...</td>\n",
              "      <td>boy dats  dwn bad for cuffin dat hoe in the ...</td>\n",
              "    </tr>\n",
              "    <tr>\n",
              "      <th>2</th>\n",
              "      <td>3</td>\n",
              "      <td>0</td>\n",
              "      <td>3</td>\n",
              "      <td>0</td>\n",
              "      <td>1</td>\n",
              "      <td>!!!!!!! RT @UrKindOfBrand Dawg!!!! RT @80sbaby...</td>\n",
              "      <td>dawg  you ever fuck a bitch and she start to...</td>\n",
              "    </tr>\n",
              "    <tr>\n",
              "      <th>3</th>\n",
              "      <td>3</td>\n",
              "      <td>0</td>\n",
              "      <td>2</td>\n",
              "      <td>1</td>\n",
              "      <td>1</td>\n",
              "      <td>!!!!!!!!! RT @C_G_Anderson: @viva_based she lo...</td>\n",
              "      <td>she look like a tranny</td>\n",
              "    </tr>\n",
              "    <tr>\n",
              "      <th>4</th>\n",
              "      <td>6</td>\n",
              "      <td>0</td>\n",
              "      <td>6</td>\n",
              "      <td>0</td>\n",
              "      <td>1</td>\n",
              "      <td>!!!!!!!!!!!!! RT @ShenikaRoberts: The shit you...</td>\n",
              "      <td>the shit you hear about me might be true or ...</td>\n",
              "    </tr>\n",
              "    <tr>\n",
              "      <th>5</th>\n",
              "      <td>3</td>\n",
              "      <td>1</td>\n",
              "      <td>2</td>\n",
              "      <td>0</td>\n",
              "      <td>1</td>\n",
              "      <td>!!!!!!!!!!!!!!!!!!\"@T_Madison_x: The shit just...</td>\n",
              "      <td>the shit just blows  you so faithful and down...</td>\n",
              "    </tr>\n",
              "    <tr>\n",
              "      <th>6</th>\n",
              "      <td>3</td>\n",
              "      <td>0</td>\n",
              "      <td>3</td>\n",
              "      <td>0</td>\n",
              "      <td>1</td>\n",
              "      <td>!!!!!!\"@__BrighterDays: I can not just sit up ...</td>\n",
              "      <td>i can not just sit up and hate on another bit...</td>\n",
              "    </tr>\n",
              "    <tr>\n",
              "      <th>7</th>\n",
              "      <td>3</td>\n",
              "      <td>0</td>\n",
              "      <td>3</td>\n",
              "      <td>0</td>\n",
              "      <td>1</td>\n",
              "      <td>!!!!&amp;#8220;@selfiequeenbri: cause I'm tired of...</td>\n",
              "      <td>cause i am tired of you big bitches coming fo...</td>\n",
              "    </tr>\n",
              "    <tr>\n",
              "      <th>8</th>\n",
              "      <td>3</td>\n",
              "      <td>0</td>\n",
              "      <td>3</td>\n",
              "      <td>0</td>\n",
              "      <td>1</td>\n",
              "      <td>\" &amp;amp; you might not get ya bitch back &amp;amp; ...</td>\n",
              "      <td>you might not get ya bitch back  thats that</td>\n",
              "    </tr>\n",
              "    <tr>\n",
              "      <th>9</th>\n",
              "      <td>3</td>\n",
              "      <td>1</td>\n",
              "      <td>2</td>\n",
              "      <td>0</td>\n",
              "      <td>1</td>\n",
              "      <td>\" @rhythmixx_ :hobbies include: fighting Maria...</td>\n",
              "      <td>hobbies include fighting mariambitch</td>\n",
              "    </tr>\n",
              "    <tr>\n",
              "      <th>10</th>\n",
              "      <td>3</td>\n",
              "      <td>0</td>\n",
              "      <td>3</td>\n",
              "      <td>0</td>\n",
              "      <td>1</td>\n",
              "      <td>\" Keeks is a bitch she curves everyone \" lol I...</td>\n",
              "      <td>keeks is a bitch she curves everyone  lol i w...</td>\n",
              "    </tr>\n",
              "    <tr>\n",
              "      <th>11</th>\n",
              "      <td>3</td>\n",
              "      <td>0</td>\n",
              "      <td>3</td>\n",
              "      <td>0</td>\n",
              "      <td>1</td>\n",
              "      <td>\" Murda Gang bitch its Gang Land \"</td>\n",
              "      <td>murda gang bitch its gang land</td>\n",
              "    </tr>\n",
              "    <tr>\n",
              "      <th>12</th>\n",
              "      <td>3</td>\n",
              "      <td>0</td>\n",
              "      <td>2</td>\n",
              "      <td>1</td>\n",
              "      <td>1</td>\n",
              "      <td>\" So hoes that smoke are losers ? \" yea ... go...</td>\n",
              "      <td>so hoes that smoke are losers   yea  go on ig</td>\n",
              "    </tr>\n",
              "    <tr>\n",
              "      <th>13</th>\n",
              "      <td>3</td>\n",
              "      <td>0</td>\n",
              "      <td>3</td>\n",
              "      <td>0</td>\n",
              "      <td>1</td>\n",
              "      <td>\" bad bitches is the only thing that i like \"</td>\n",
              "      <td>bad bitches is the only thing that i like</td>\n",
              "    </tr>\n",
              "    <tr>\n",
              "      <th>14</th>\n",
              "      <td>3</td>\n",
              "      <td>1</td>\n",
              "      <td>2</td>\n",
              "      <td>0</td>\n",
              "      <td>1</td>\n",
              "      <td>\" bitch get up off me \"</td>\n",
              "      <td>bitch get up off me</td>\n",
              "    </tr>\n",
              "    <tr>\n",
              "      <th>15</th>\n",
              "      <td>3</td>\n",
              "      <td>0</td>\n",
              "      <td>3</td>\n",
              "      <td>0</td>\n",
              "      <td>1</td>\n",
              "      <td>\" bitch nigga miss me with it \"</td>\n",
              "      <td>bitch nigga miss me with it</td>\n",
              "    </tr>\n",
              "    <tr>\n",
              "      <th>16</th>\n",
              "      <td>3</td>\n",
              "      <td>0</td>\n",
              "      <td>3</td>\n",
              "      <td>0</td>\n",
              "      <td>1</td>\n",
              "      <td>\" bitch plz whatever \"</td>\n",
              "      <td>bitch plz whatever</td>\n",
              "    </tr>\n",
              "    <tr>\n",
              "      <th>17</th>\n",
              "      <td>3</td>\n",
              "      <td>1</td>\n",
              "      <td>2</td>\n",
              "      <td>0</td>\n",
              "      <td>1</td>\n",
              "      <td>\" bitch who do you love \"</td>\n",
              "      <td>bitch who do you love</td>\n",
              "    </tr>\n",
              "    <tr>\n",
              "      <th>18</th>\n",
              "      <td>3</td>\n",
              "      <td>0</td>\n",
              "      <td>3</td>\n",
              "      <td>0</td>\n",
              "      <td>1</td>\n",
              "      <td>\" bitches get cut off everyday B \"</td>\n",
              "      <td>bitches get cut off everyday b</td>\n",
              "    </tr>\n",
              "    <tr>\n",
              "      <th>19</th>\n",
              "      <td>3</td>\n",
              "      <td>0</td>\n",
              "      <td>3</td>\n",
              "      <td>0</td>\n",
              "      <td>1</td>\n",
              "      <td>\" black bottle &amp;amp; a bad bitch \"</td>\n",
              "      <td>black bottle  a bad bitch</td>\n",
              "    </tr>\n",
              "    <tr>\n",
              "      <th>20</th>\n",
              "      <td>3</td>\n",
              "      <td>0</td>\n",
              "      <td>3</td>\n",
              "      <td>0</td>\n",
              "      <td>1</td>\n",
              "      <td>\" broke bitch cant tell me nothing \"</td>\n",
              "      <td>broke bitch cant tell me nothing</td>\n",
              "    </tr>\n",
              "    <tr>\n",
              "      <th>21</th>\n",
              "      <td>3</td>\n",
              "      <td>0</td>\n",
              "      <td>3</td>\n",
              "      <td>0</td>\n",
              "      <td>1</td>\n",
              "      <td>\" cancel that bitch like Nino \"</td>\n",
              "      <td>cancel that bitch like nino</td>\n",
              "    </tr>\n",
              "    <tr>\n",
              "      <th>22</th>\n",
              "      <td>3</td>\n",
              "      <td>0</td>\n",
              "      <td>3</td>\n",
              "      <td>0</td>\n",
              "      <td>1</td>\n",
              "      <td>\" cant you see these hoes wont change \"</td>\n",
              "      <td>cant you see these hoes wont change</td>\n",
              "    </tr>\n",
              "    <tr>\n",
              "      <th>23</th>\n",
              "      <td>3</td>\n",
              "      <td>0</td>\n",
              "      <td>3</td>\n",
              "      <td>0</td>\n",
              "      <td>1</td>\n",
              "      <td>\" fuck no that bitch dont even suck dick \" &amp;#1...</td>\n",
              "      <td>fuck no that bitch dont even suck dick   the ...</td>\n",
              "    </tr>\n",
              "    <tr>\n",
              "      <th>24</th>\n",
              "      <td>3</td>\n",
              "      <td>0</td>\n",
              "      <td>3</td>\n",
              "      <td>0</td>\n",
              "      <td>1</td>\n",
              "      <td>\" got ya bitch tip toeing on my hardwood floor...</td>\n",
              "      <td>got ya bitch tip toeing on my hardwood floors</td>\n",
              "    </tr>\n",
              "  </tbody>\n",
              "</table>\n",
              "</div>"
            ],
            "text/plain": [
              "    count  ...                                        clean_tweet\n",
              "0       3  ...    as a woman you should not complain about cle...\n",
              "1       3  ...    boy dats  dwn bad for cuffin dat hoe in the ...\n",
              "2       3  ...    dawg  you ever fuck a bitch and she start to...\n",
              "3       3  ...                             she look like a tranny\n",
              "4       6  ...    the shit you hear about me might be true or ...\n",
              "5       3  ...   the shit just blows  you so faithful and down...\n",
              "6       3  ...   i can not just sit up and hate on another bit...\n",
              "7       3  ...   cause i am tired of you big bitches coming fo...\n",
              "8       3  ...       you might not get ya bitch back  thats that \n",
              "9       3  ...               hobbies include fighting mariambitch\n",
              "10      3  ...   keeks is a bitch she curves everyone  lol i w...\n",
              "11      3  ...                    murda gang bitch its gang land \n",
              "12      3  ...      so hoes that smoke are losers   yea  go on ig\n",
              "13      3  ...         bad bitches is the only thing that i like \n",
              "14      3  ...                               bitch get up off me \n",
              "15      3  ...                       bitch nigga miss me with it \n",
              "16      3  ...                                bitch plz whatever \n",
              "17      3  ...                             bitch who do you love \n",
              "18      3  ...                    bitches get cut off everyday b \n",
              "19      3  ...                         black bottle  a bad bitch \n",
              "20      3  ...                  broke bitch cant tell me nothing \n",
              "21      3  ...                       cancel that bitch like nino \n",
              "22      3  ...               cant you see these hoes wont change \n",
              "23      3  ...   fuck no that bitch dont even suck dick   the ...\n",
              "24      3  ...   got ya bitch tip toeing on my hardwood floors   \n",
              "\n",
              "[25 rows x 7 columns]"
            ]
          },
          "metadata": {
            "tags": []
          },
          "execution_count": 4
        }
      ]
    },
    {
      "cell_type": "markdown",
      "metadata": {
        "id": "Drsa0fEYXlzx"
      },
      "source": [
        "We take 1000 samples from the dataset for resource considerations"
      ]
    },
    {
      "cell_type": "code",
      "metadata": {
        "colab": {
          "base_uri": "https://localhost:8080/"
        },
        "id": "awdX0aAekTmA",
        "outputId": "d2204c94-2ad0-40ab-ed79-aebc7e39a3de"
      },
      "source": [
        "batch_1 = df[:1500]\n",
        "batch_1\n",
        "batch_1['class'].value_counts()"
      ],
      "execution_count": null,
      "outputs": [
        {
          "output_type": "execute_result",
          "data": {
            "text/plain": [
              "1    1189\n",
              "2     237\n",
              "0      74\n",
              "Name: class, dtype: int64"
            ]
          },
          "metadata": {
            "tags": []
          },
          "execution_count": 27
        }
      ]
    },
    {
      "cell_type": "markdown",
      "metadata": {
        "id": "RN2jboFQgeOR"
      },
      "source": [
        "# Loading the Pre-trained BERT model"
      ]
    },
    {
      "cell_type": "code",
      "metadata": {
        "id": "JdTsqNW33HNB"
      },
      "source": [
        "# Import pre-trained DistilBERT model and tokenizer\n",
        "model_class, tokenizer_class, pretrained_weights = (ppb.DistilBertModel, ppb.DistilBertTokenizer, 'distilbert-base-uncased')\n",
        "# Load pretrained model/tokenizer\n",
        "tokenizer = tokenizer_class.from_pretrained(pretrained_weights)\n",
        "model = model_class.from_pretrained(pretrained_weights)"
      ],
      "execution_count": null,
      "outputs": []
    },
    {
      "cell_type": "markdown",
      "metadata": {
        "id": "1iXUj7oNgkam"
      },
      "source": [
        "# Model #1: Preparing the Dataset"
      ]
    },
    {
      "cell_type": "markdown",
      "metadata": {
        "id": "wnQrLfQWgmCY"
      },
      "source": [
        "## Tokenize"
      ]
    },
    {
      "cell_type": "markdown",
      "metadata": {
        "id": "76I13ALg3aF3"
      },
      "source": [
        "Here, we’ll tokenize and process all sentences together as a batch (the notebook processes a smaller group of examples just for resource considerations, let’s say 2000 examples)."
      ]
    },
    {
      "cell_type": "code",
      "metadata": {
        "colab": {
          "base_uri": "https://localhost:8080/"
        },
        "id": "oREfdKxW3ZHV",
        "outputId": "7fd15842-6cb7-4851-c02d-b495906e6375"
      },
      "source": [
        "tokenized = batch_1['clean_tweet'].apply((lambda x: tokenizer.encode(x, add_special_tokens=True))) # This turns every sentence into the list of ids.\n",
        "tokenized"
      ],
      "execution_count": null,
      "outputs": [
        {
          "output_type": "execute_result",
          "data": {
            "text/plain": [
              "0       [101, 2004, 1037, 2450, 2017, 2323, 2025, 1761...\n",
              "1       [101, 2879, 23755, 2015, 1040, 7962, 2919, 200...\n",
              "2       [101, 4830, 27767, 2017, 2412, 6616, 1037, 774...\n",
              "3         [101, 2016, 2298, 2066, 1037, 25283, 4890, 102]\n",
              "4       [101, 1996, 4485, 2017, 2963, 2055, 2033, 2453...\n",
              "                              ...                        \n",
              "1526    [101, 1045, 2572, 9303, 2050, 4521, 2070, 2241...\n",
              "1527    [101, 2043, 3057, 2202, 2026, 10245, 10457, 19...\n",
              "1528    [101, 1037, 2047, 8843, 1997, 2317, 2611, 2016...\n",
              "1529    [101, 1037, 7743, 2071, 2025, 3477, 2033, 2000...\n",
              "1530    [101, 9152, 23033, 2015, 2215, 22418, 1045, 25...\n",
              "Name: clean_tweet, Length: 1500, dtype: object"
            ]
          },
          "metadata": {
            "tags": []
          },
          "execution_count": 29
        }
      ]
    },
    {
      "cell_type": "markdown",
      "metadata": {
        "id": "Z5sVnA4ngq8y"
      },
      "source": [
        "## Padding"
      ]
    },
    {
      "cell_type": "markdown",
      "metadata": {
        "id": "Sz8shzK_35cL"
      },
      "source": [
        "Before DistilBERT can process this as input, we’ll need to make all the vectors the same size by padding shorter sentences with the token id 0.\n",
        "\n",
        "\n",
        "After tokenization, tokenized is a list of sentences -- each sentences is represented as a list of tokens. We want BERT to process our examples all at once (as one batch). It's just faster that way. For that reason, we need to pad all lists to the same size, so we can represent the input as one 2-d array, rather than a list of lists (of different lengths)."
      ]
    },
    {
      "cell_type": "code",
      "metadata": {
        "colab": {
          "base_uri": "https://localhost:8080/"
        },
        "id": "UjTeZmY335_X",
        "outputId": "6fffd152-8e36-4e5e-fad9-54b6bbeec2d0"
      },
      "source": [
        "max_len = max(tokenized.apply(len))\n",
        "print(max_len)\n",
        "padded = np.array([i + [0]*(max_len-len(i)) for i in tokenized.values])\n",
        "np.array(padded).shape"
      ],
      "execution_count": null,
      "outputs": [
        {
          "output_type": "stream",
          "text": [
            "47\n"
          ],
          "name": "stdout"
        },
        {
          "output_type": "execute_result",
          "data": {
            "text/plain": [
              "(1500, 47)"
            ]
          },
          "metadata": {
            "tags": []
          },
          "execution_count": 30
        }
      ]
    },
    {
      "cell_type": "markdown",
      "metadata": {
        "id": "TjP7sVp4gyIf"
      },
      "source": [
        "## Masking\n",
        "If we directly send padded to BERT, that would slightly confuse it. We need to create another variable to tell it to ignore (mask) the padding we've added when it's processing its input. That's what attention_mask is:"
      ]
    },
    {
      "cell_type": "code",
      "metadata": {
        "colab": {
          "base_uri": "https://localhost:8080/"
        },
        "id": "_tj51zlI4QMR",
        "outputId": "1479c4f0-936e-47d5-9e13-302f7eca0021"
      },
      "source": [
        "attention_mask = np.where(padded != 0, 1, 0)\n",
        "attention_mask.shape"
      ],
      "execution_count": null,
      "outputs": [
        {
          "output_type": "execute_result",
          "data": {
            "text/plain": [
              "(1500, 47)"
            ]
          },
          "metadata": {
            "tags": []
          },
          "execution_count": 31
        }
      ]
    },
    {
      "cell_type": "markdown",
      "metadata": {
        "id": "JgGxrLIIg5A-"
      },
      "source": [
        "# Model #1: Deep Learning"
      ]
    },
    {
      "cell_type": "markdown",
      "metadata": {
        "id": "sO51u9Uj44mR"
      },
      "source": [
        "The model() function runs our sentences through BERT. The results of the processing will be returned into last_hidden_states."
      ]
    },
    {
      "cell_type": "code",
      "metadata": {
        "id": "v6nNWfK3447w"
      },
      "source": [
        "input_ids = torch.tensor(padded)  \n",
        "attention_mask = torch.tensor(attention_mask)\n",
        "\n",
        "with torch.no_grad():\n",
        "  last_hidden_states = model(input_ids, attention_mask=attention_mask)[0][:,0,:].numpy()"
      ],
      "execution_count": null,
      "outputs": []
    },
    {
      "cell_type": "markdown",
      "metadata": {
        "id": "uKhAVyHF5DJd"
      },
      "source": [
        "Then, we slice only the part of the output that we need, which is the output corresponding the first token of each sentence"
      ]
    },
    {
      "cell_type": "code",
      "metadata": {
        "id": "TjPSpnOo-Qm8"
      },
      "source": [
        "features = last_hidden_states"
      ],
      "execution_count": null,
      "outputs": []
    },
    {
      "cell_type": "code",
      "metadata": {
        "id": "7gCitFFD5Fki"
      },
      "source": [
        "labels = batch_1['class']"
      ],
      "execution_count": null,
      "outputs": []
    },
    {
      "cell_type": "markdown",
      "metadata": {
        "id": "9gh4vcyv82aB"
      },
      "source": [
        "# Model #2: Train/Test Split"
      ]
    },
    {
      "cell_type": "code",
      "metadata": {
        "id": "FHbI2cNO5xeg",
        "colab": {
          "base_uri": "https://localhost:8080/"
        },
        "outputId": "512b15e2-b790-4e3c-98a3-55e7e01a92e0"
      },
      "source": [
        "train_features, test_features, train_labels, test_labels = train_test_split(features, labels, test_size=0.2)\n",
        "dev_features, test_features, dev_labels, test_labels = train_test_split(test_features, test_labels, test_size=0.5)\n",
        "print(train_features.shape, dev_features.shape, test_features.shape)"
      ],
      "execution_count": null,
      "outputs": [
        {
          "output_type": "stream",
          "text": [
            "(1200, 768) (150, 768) (150, 768)\n"
          ],
          "name": "stdout"
        }
      ]
    },
    {
      "cell_type": "code",
      "metadata": {
        "colab": {
          "base_uri": "https://localhost:8080/"
        },
        "id": "75w8yJDx9AXJ",
        "outputId": "2598e00b-f927-45ed-b470-c96f895dde04"
      },
      "source": [
        "lr_clf = LogisticRegression()\n",
        "lr_clf.fit(train_features, train_labels)\n",
        "test_predict = lr_clf.predict(test_features)"
      ],
      "execution_count": null,
      "outputs": [
        {
          "output_type": "stream",
          "text": [
            "/usr/local/lib/python3.7/dist-packages/sklearn/linear_model/_logistic.py:940: ConvergenceWarning: lbfgs failed to converge (status=1):\n",
            "STOP: TOTAL NO. of ITERATIONS REACHED LIMIT.\n",
            "\n",
            "Increase the number of iterations (max_iter) or scale the data as shown in:\n",
            "    https://scikit-learn.org/stable/modules/preprocessing.html\n",
            "Please also refer to the documentation for alternative solver options:\n",
            "    https://scikit-learn.org/stable/modules/linear_model.html#logistic-regression\n",
            "  extra_warning_msg=_LOGISTIC_SOLVER_CONVERGENCE_MSG)\n"
          ],
          "name": "stderr"
        }
      ]
    },
    {
      "cell_type": "code",
      "metadata": {
        "colab": {
          "base_uri": "https://localhost:8080/"
        },
        "id": "eHk2Dk_J9nGl",
        "outputId": "a804bfb8-5e73-4625-cc30-d63b46e2580e"
      },
      "source": [
        "from sklearn.metrics import f1_score\n",
        "from sklearn.metrics import roc_auc_score\n",
        "print('f1 score is', f1_score(test_predict, test_labels, average='micro'))\n",
        "roc_auc_score(test_predict, lr_clf.predict_proba(test_features), multi_class='ovr')"
      ],
      "execution_count": null,
      "outputs": [
        {
          "output_type": "stream",
          "text": [
            "f1 score is 0.8333333333333334\n"
          ],
          "name": "stdout"
        },
        {
          "output_type": "execute_result",
          "data": {
            "text/plain": [
              "1.0"
            ]
          },
          "metadata": {
            "tags": []
          },
          "execution_count": 37
        }
      ]
    },
    {
      "cell_type": "code",
      "metadata": {
        "colab": {
          "base_uri": "https://localhost:8080/"
        },
        "id": "HbNGIOQL-cx4",
        "outputId": "072ecfa8-0642-45b1-e4de-b952480bfd03"
      },
      "source": [
        "import matplotlib.pyplot as plt\n",
        "import seaborn as sns\n",
        "from sklearn import metrics\n",
        "cm = metrics.confusion_matrix(test_predict, test_labels)\n",
        "print(cm)"
      ],
      "execution_count": null,
      "outputs": [
        {
          "output_type": "stream",
          "text": [
            "[[  2   0   2]\n",
            " [  6 108   9]\n",
            " [  3   5  15]]\n"
          ],
          "name": "stdout"
        }
      ]
    },
    {
      "cell_type": "code",
      "metadata": {
        "id": "AGeToOm7tPW9"
      },
      "source": [
        "from sklearn.metrics import plot_confusion_matrix\n",
        "disp = plot_confusion_matrix(lr_clf, test_features, test_labels,\n",
        "                                 cmap=plt.cm.Blues,\n",
        "                                 normalize=\"true\")\n",
        "print(disp.confusion_matrix)\n",
        "\n",
        "plt.show()"
      ],
      "execution_count": null,
      "outputs": []
    },
    {
      "cell_type": "code",
      "metadata": {
        "colab": {
          "base_uri": "https://localhost:8080/",
          "height": 526
        },
        "id": "6D1CPfYX-ij6",
        "outputId": "d3d8ea0c-273c-420b-83f5-d338f779a575"
      },
      "source": [
        "plt.figure(figsize=(9,9))\n",
        "sns.heatmap(cm, annot=True, fmt=\".0f\", linewidths=.5, square = True, cmap = 'Blues_r');\n",
        "plt.ylabel('Actual label');\n",
        "plt.xlabel('Predicted label');"
      ],
      "execution_count": null,
      "outputs": [
        {
          "output_type": "display_data",
          "data": {
            "image/png": "[encoded data removed]",
            "text/plain": [
              "<Figure size 648x648 with 2 Axes>"
            ]
          },
          "metadata": {
            "tags": [],
            "needs_background": "light"
          }
        }
      ]
    }
  ]
}