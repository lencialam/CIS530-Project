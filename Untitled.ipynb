{
 "cells": [
  {
   "cell_type": "code",
   "execution_count": 1,
   "id": "5bb2d01f",
   "metadata": {},
   "outputs": [],
   "source": [
    "import torch\n",
    "import transformers\n",
    "import random\n",
    "import numpy as np\n",
    "from transformers import AdamW\n",
    "import time\n",
    "import pandas as pd\n",
    "from sklearn.model_selection import train_test_split\n",
    "\n",
    "def set_seed(seed):\n",
    "    torch.backends.cudnn.deterministic = True\n",
    "    torch.backends.cudnn.benchmark = False\n",
    "    torch.manual_seed(seed)\n",
    "    torch.cuda.manual_seed_all(seed)\n",
    "    np.random.seed(seed)\n",
    "    random.seed(seed)"
   ]
  },
  {
   "cell_type": "code",
   "execution_count": 2,
   "id": "d764b06b",
   "metadata": {},
   "outputs": [
    {
     "name": "stdout",
     "output_type": "stream",
     "text": [
      "['you and them bitches that you came wit', 'so about this flappy bird game then', 'i missing something of my ofay friends day all scared by da recent happenings do not chu  lamar say you like da colored folk', '    bitch yall relationship am not shit but a theory', 'np shy glizzy  awwsome remix feat 2 chainz  aap rocky via  ', 'she let me play with her pussy then she lick it off my fingers', 'the whole afternoon has been about the deep voiced bitch', 'speaking of  a lot of them backpage hoes do not like fucking black guys so i never went thru with it', 'halloween over and bitches still playing roles', ' now that halloween is fast approaching please understand this we are a culture not a costume to mock and ridicule http']\n"
     ]
    }
   ],
   "source": [
    "set_seed(530)\n",
    "\n",
    "df = pd.read_csv('data/cleaned_df.csv')\n",
    "df, test_df = train_test_split(df, test_size=0.1)\n",
    "\n",
    "train_texts = list(df.clean_tweet.values)\n",
    "train_labels = list(df['class'].values)\n",
    "test_texts = list(test_df.clean_tweet.values)\n",
    "test_labels = list(test_df['class'].values)\n",
    "\n",
    "print(train_texts[:10])"
   ]
  },
  {
   "cell_type": "code",
   "execution_count": null,
   "id": "30c54fa6",
   "metadata": {},
   "outputs": [],
   "source": []
  }
 ],
 "metadata": {
  "kernelspec": {
   "display_name": "Python (myenv)",
   "language": "python",
   "name": "naacl21_final"
  },
  "language_info": {
   "codemirror_mode": {
    "name": "ipython",
    "version": 3
   },
   "file_extension": ".py",
   "mimetype": "text/x-python",
   "name": "python",
   "nbconvert_exporter": "python",
   "pygments_lexer": "ipython3",
   "version": "3.6.13"
  }
 },
 "nbformat": 4,
 "nbformat_minor": 5
}
