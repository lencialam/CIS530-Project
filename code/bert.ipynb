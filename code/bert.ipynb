{
  "nbformat": 4,
  "nbformat_minor": 0,
  "metadata": {
    "kernelspec": {
      "name": "python3",
      "display_name": "Python 3"
    },
    "colab": {
      "name": "bert.ipynb",
      "provenance": [],
      "collapsed_sections": []
    },
    "accelerator": "GPU",
    "language_info": {
      "name": "python"
    }
  },
  "cells": [
    {
      "cell_type": "code",
      "metadata": {
        "id": "4PVHf7_tpTm2"
      },
      "source": [
        "%%capture\n",
        "!pip install transformers"
      ],
      "execution_count": 1,
      "outputs": []
    },
    {
      "cell_type": "code",
      "metadata": {
        "colab": {
          "base_uri": "https://localhost:8080/"
        },
        "id": "0o-HeNcufT1n",
        "outputId": "7c678f72-7335-40f7-8879-6361772790ad"
      },
      "source": [
        "import random\n",
        "import numpy as np\n",
        "import pandas as pd\n",
        "import torch\n",
        "from torch.utils.data import DataLoader\n",
        "import transformers\n",
        "from transformers import BertTokenizer\n",
        "from transformers import BertForSequenceClassification\n",
        "from transformers import AdamW\n",
        "from sklearn.metrics import f1_score\n",
        "\n",
        "device = torch.device('cuda') if torch.cuda.is_available() else torch.device('cpu')\n",
        "\n",
        "print(torch.cuda.get_device_name(0))\n",
        "\n",
        "def set_seed(seed):\n",
        "    torch.backends.cudnn.deterministic = True\n",
        "    torch.backends.cudnn.benchmark = False\n",
        "    torch.manual_seed(seed)\n",
        "    torch.cuda.manual_seed_all(seed)\n",
        "    np.random.seed(seed)\n",
        "    random.seed(seed)"
      ],
      "execution_count": 2,
      "outputs": [
        {
          "output_type": "stream",
          "text": [
            "Tesla T4\n"
          ],
          "name": "stdout"
        }
      ]
    },
    {
      "cell_type": "code",
      "metadata": {
        "id": "DRK_oDn2fT1u"
      },
      "source": [
        "set_seed(530)\n",
        "train_df = pd.read_csv('train.csv')\n",
        "dev_df = pd.read_csv('dev.csv')\n",
        "test_df = pd.read_csv('test.csv')\n",
        "\n",
        "\n",
        "train_texts = list(train_df['tweet'].values)\n",
        "train_labels = list(train_df['class'].values)\n",
        "\n",
        "dev_texts = list(dev_df['tweet'].values)\n",
        "dev_labels = list(dev_df['class'].values)\n",
        "\n",
        "test_texts = list(test_df['tweet'].values)\n",
        "test_labels = list(test_df['class'].values)"
      ],
      "execution_count": 3,
      "outputs": []
    },
    {
      "cell_type": "code",
      "metadata": {
        "colab": {
          "base_uri": "https://localhost:8080/",
          "height": 669
        },
        "id": "TsKjwU5qrlk-",
        "outputId": "f690afd6-9279-4133-bd6e-5df1941bab62"
      },
      "source": [
        "train_df.head(20)"
      ],
      "execution_count": 4,
      "outputs": [
        {
          "output_type": "execute_result",
          "data": {
            "text/html": [
              "<div>\n",
              "<style scoped>\n",
              "    .dataframe tbody tr th:only-of-type {\n",
              "        vertical-align: middle;\n",
              "    }\n",
              "\n",
              "    .dataframe tbody tr th {\n",
              "        vertical-align: top;\n",
              "    }\n",
              "\n",
              "    .dataframe thead th {\n",
              "        text-align: right;\n",
              "    }\n",
              "</style>\n",
              "<table border=\"1\" class=\"dataframe\">\n",
              "  <thead>\n",
              "    <tr style=\"text-align: right;\">\n",
              "      <th></th>\n",
              "      <th>tweet</th>\n",
              "      <th>class</th>\n",
              "    </tr>\n",
              "  </thead>\n",
              "  <tbody>\n",
              "    <tr>\n",
              "      <th>0</th>\n",
              "      <td>@USER How dare they!? Please miss us with all ...</td>\n",
              "      <td>1</td>\n",
              "    </tr>\n",
              "    <tr>\n",
              "      <th>1</th>\n",
              "      <td>@USER She is!!! 😍</td>\n",
              "      <td>1</td>\n",
              "    </tr>\n",
              "    <tr>\n",
              "      <th>2</th>\n",
              "      <td>#Trump was walking towards a crowd excited to ...</td>\n",
              "      <td>0</td>\n",
              "    </tr>\n",
              "    <tr>\n",
              "      <th>3</th>\n",
              "      <td>@USER @USER Ford and the conservatives hates t...</td>\n",
              "      <td>1</td>\n",
              "    </tr>\n",
              "    <tr>\n",
              "      <th>4</th>\n",
              "      <td>@USER CONway say it louder for your fellow #MA...</td>\n",
              "      <td>0</td>\n",
              "    </tr>\n",
              "    <tr>\n",
              "      <th>5</th>\n",
              "      <td>@USER @USER @USER #Brilliant bigotry..</td>\n",
              "      <td>0</td>\n",
              "    </tr>\n",
              "    <tr>\n",
              "      <th>6</th>\n",
              "      <td>@USER I just think that he's more likely to be...</td>\n",
              "      <td>1</td>\n",
              "    </tr>\n",
              "    <tr>\n",
              "      <th>7</th>\n",
              "      <td>@USER YOU CAN'T TELL ME WHAT THE FUCK I CAN AN...</td>\n",
              "      <td>1</td>\n",
              "    </tr>\n",
              "    <tr>\n",
              "      <th>8</th>\n",
              "      <td>@USER @USER Fuck you cunt.  Try this on for si...</td>\n",
              "      <td>0</td>\n",
              "    </tr>\n",
              "    <tr>\n",
              "      <th>9</th>\n",
              "      <td>@USER You will not win. Texas doesn’t need a l...</td>\n",
              "      <td>0</td>\n",
              "    </tr>\n",
              "    <tr>\n",
              "      <th>10</th>\n",
              "      <td>@USER Have you looked in any ANTIFA recruitmen...</td>\n",
              "      <td>1</td>\n",
              "    </tr>\n",
              "    <tr>\n",
              "      <th>11</th>\n",
              "      <td>@USER Correct me if I`m wrong wasn`t she playi...</td>\n",
              "      <td>1</td>\n",
              "    </tr>\n",
              "    <tr>\n",
              "      <th>12</th>\n",
              "      <td>@USER BETO A DANGEROUS MAN!  I TOLD YOU A HIT ...</td>\n",
              "      <td>1</td>\n",
              "    </tr>\n",
              "    <tr>\n",
              "      <th>13</th>\n",
              "      <td>All Trump's and Pense 2020 merch is being made...</td>\n",
              "      <td>0</td>\n",
              "    </tr>\n",
              "    <tr>\n",
              "      <th>14</th>\n",
              "      <td>@USER Re-read my tweet Brian, gun control\" not...</td>\n",
              "      <td>1</td>\n",
              "    </tr>\n",
              "    <tr>\n",
              "      <th>15</th>\n",
              "      <td>ANTIFA in Canada demand to be let into a gover...</td>\n",
              "      <td>1</td>\n",
              "    </tr>\n",
              "    <tr>\n",
              "      <th>16</th>\n",
              "      <td>@USER Because he is a Republican.</td>\n",
              "      <td>1</td>\n",
              "    </tr>\n",
              "    <tr>\n",
              "      <th>17</th>\n",
              "      <td>@USER @USER If you look at his ANTIFA list.......</td>\n",
              "      <td>1</td>\n",
              "    </tr>\n",
              "    <tr>\n",
              "      <th>18</th>\n",
              "      <td>@USER @USER @USER Or like the antifa Berkeley ...</td>\n",
              "      <td>1</td>\n",
              "    </tr>\n",
              "    <tr>\n",
              "      <th>19</th>\n",
              "      <td>Krav Maga Defcon Wuppertal @ Body Masters URL</td>\n",
              "      <td>1</td>\n",
              "    </tr>\n",
              "  </tbody>\n",
              "</table>\n",
              "</div>"
            ],
            "text/plain": [
              "                                                tweet  class\n",
              "0   @USER How dare they!? Please miss us with all ...      1\n",
              "1                                   @USER She is!!! 😍      1\n",
              "2   #Trump was walking towards a crowd excited to ...      0\n",
              "3   @USER @USER Ford and the conservatives hates t...      1\n",
              "4   @USER CONway say it louder for your fellow #MA...      0\n",
              "5              @USER @USER @USER #Brilliant bigotry..      0\n",
              "6   @USER I just think that he's more likely to be...      1\n",
              "7   @USER YOU CAN'T TELL ME WHAT THE FUCK I CAN AN...      1\n",
              "8   @USER @USER Fuck you cunt.  Try this on for si...      0\n",
              "9   @USER You will not win. Texas doesn’t need a l...      0\n",
              "10  @USER Have you looked in any ANTIFA recruitmen...      1\n",
              "11  @USER Correct me if I`m wrong wasn`t she playi...      1\n",
              "12  @USER BETO A DANGEROUS MAN!  I TOLD YOU A HIT ...      1\n",
              "13  All Trump's and Pense 2020 merch is being made...      0\n",
              "14  @USER Re-read my tweet Brian, gun control\" not...      1\n",
              "15  ANTIFA in Canada demand to be let into a gover...      1\n",
              "16                  @USER Because he is a Republican.      1\n",
              "17  @USER @USER If you look at his ANTIFA list.......      1\n",
              "18  @USER @USER @USER Or like the antifa Berkeley ...      1\n",
              "19      Krav Maga Defcon Wuppertal @ Body Masters URL      1"
            ]
          },
          "metadata": {
            "tags": []
          },
          "execution_count": 4
        }
      ]
    },
    {
      "cell_type": "code",
      "metadata": {
        "colab": {
          "base_uri": "https://localhost:8080/",
          "height": 669
        },
        "id": "OfS17CeMroBy",
        "outputId": "36809516-e01b-4aba-8fe7-4482175c6d8e"
      },
      "source": [
        "dev_df.head(20)"
      ],
      "execution_count": 5,
      "outputs": [
        {
          "output_type": "execute_result",
          "data": {
            "text/html": [
              "<div>\n",
              "<style scoped>\n",
              "    .dataframe tbody tr th:only-of-type {\n",
              "        vertical-align: middle;\n",
              "    }\n",
              "\n",
              "    .dataframe tbody tr th {\n",
              "        vertical-align: top;\n",
              "    }\n",
              "\n",
              "    .dataframe thead th {\n",
              "        text-align: right;\n",
              "    }\n",
              "</style>\n",
              "<table border=\"1\" class=\"dataframe\">\n",
              "  <thead>\n",
              "    <tr style=\"text-align: right;\">\n",
              "      <th></th>\n",
              "      <th>tweet</th>\n",
              "      <th>class</th>\n",
              "    </tr>\n",
              "  </thead>\n",
              "  <tbody>\n",
              "    <tr>\n",
              "      <th>0</th>\n",
              "      <td>@USER @USER @USER @USER @USER @USER She is bei...</td>\n",
              "      <td>1</td>\n",
              "    </tr>\n",
              "    <tr>\n",
              "      <th>1</th>\n",
              "      <td>@USER @USER Murda fucker</td>\n",
              "      <td>0</td>\n",
              "    </tr>\n",
              "    <tr>\n",
              "      <th>2</th>\n",
              "      <td>@USER @USER @USER Maybe he is just light in hi...</td>\n",
              "      <td>1</td>\n",
              "    </tr>\n",
              "    <tr>\n",
              "      <th>3</th>\n",
              "      <td>@USER @USER @USER @USER @USER i choose antifa URL</td>\n",
              "      <td>1</td>\n",
              "    </tr>\n",
              "    <tr>\n",
              "      <th>4</th>\n",
              "      <td>@USER I think this is funny that you're compla...</td>\n",
              "      <td>1</td>\n",
              "    </tr>\n",
              "    <tr>\n",
              "      <th>5</th>\n",
              "      <td>@USER @USER @USER @USER So you are ok with the...</td>\n",
              "      <td>0</td>\n",
              "    </tr>\n",
              "    <tr>\n",
              "      <th>6</th>\n",
              "      <td>@USER This isn’t about gun control anymore thi...</td>\n",
              "      <td>1</td>\n",
              "    </tr>\n",
              "    <tr>\n",
              "      <th>7</th>\n",
              "      <td>@USER And they have some of the strictest gun ...</td>\n",
              "      <td>0</td>\n",
              "    </tr>\n",
              "    <tr>\n",
              "      <th>8</th>\n",
              "      <td>@USER @USER @USER Completely agree. I grew up ...</td>\n",
              "      <td>1</td>\n",
              "    </tr>\n",
              "    <tr>\n",
              "      <th>9</th>\n",
              "      <td>Business is business. I love this story. URL</td>\n",
              "      <td>0</td>\n",
              "    </tr>\n",
              "    <tr>\n",
              "      <th>10</th>\n",
              "      <td>@USER @USER So What? We all have concerns on g...</td>\n",
              "      <td>1</td>\n",
              "    </tr>\n",
              "    <tr>\n",
              "      <th>11</th>\n",
              "      <td>@USER Hint Call 1 800THEWHITEHOUSE</td>\n",
              "      <td>1</td>\n",
              "    </tr>\n",
              "    <tr>\n",
              "      <th>12</th>\n",
              "      <td>@USER   the U.S. is tying to increase the cost...</td>\n",
              "      <td>1</td>\n",
              "    </tr>\n",
              "    <tr>\n",
              "      <th>13</th>\n",
              "      <td>@USER @USER Idk what to think about her...but ...</td>\n",
              "      <td>0</td>\n",
              "    </tr>\n",
              "    <tr>\n",
              "      <th>14</th>\n",
              "      <td>...I'm smarter than he is, I would be fine, he...</td>\n",
              "      <td>0</td>\n",
              "    </tr>\n",
              "    <tr>\n",
              "      <th>15</th>\n",
              "      <td>@USER @USER @USER @USER Conservatives: Always ...</td>\n",
              "      <td>1</td>\n",
              "    </tr>\n",
              "    <tr>\n",
              "      <th>16</th>\n",
              "      <td>@USER @USER @USER And people still think this ...</td>\n",
              "      <td>0</td>\n",
              "    </tr>\n",
              "    <tr>\n",
              "      <th>17</th>\n",
              "      <td>@USER I can't believe he is still on the radio.</td>\n",
              "      <td>1</td>\n",
              "    </tr>\n",
              "    <tr>\n",
              "      <th>18</th>\n",
              "      <td>#MOGG: #JacobReesMogg calls for @USER to #Chuc...</td>\n",
              "      <td>0</td>\n",
              "    </tr>\n",
              "    <tr>\n",
              "      <th>19</th>\n",
              "      <td>@USER @USER Google needs to lose its 501-3c pr...</td>\n",
              "      <td>1</td>\n",
              "    </tr>\n",
              "  </tbody>\n",
              "</table>\n",
              "</div>"
            ],
            "text/plain": [
              "                                                tweet  class\n",
              "0   @USER @USER @USER @USER @USER @USER She is bei...      1\n",
              "1                            @USER @USER Murda fucker      0\n",
              "2   @USER @USER @USER Maybe he is just light in hi...      1\n",
              "3   @USER @USER @USER @USER @USER i choose antifa URL      1\n",
              "4   @USER I think this is funny that you're compla...      1\n",
              "5   @USER @USER @USER @USER So you are ok with the...      0\n",
              "6   @USER This isn’t about gun control anymore thi...      1\n",
              "7   @USER And they have some of the strictest gun ...      0\n",
              "8   @USER @USER @USER Completely agree. I grew up ...      1\n",
              "9        Business is business. I love this story. URL      0\n",
              "10  @USER @USER So What? We all have concerns on g...      1\n",
              "11                 @USER Hint Call 1 800THEWHITEHOUSE      1\n",
              "12  @USER   the U.S. is tying to increase the cost...      1\n",
              "13  @USER @USER Idk what to think about her...but ...      0\n",
              "14  ...I'm smarter than he is, I would be fine, he...      0\n",
              "15  @USER @USER @USER @USER Conservatives: Always ...      1\n",
              "16  @USER @USER @USER And people still think this ...      0\n",
              "17    @USER I can't believe he is still on the radio.      1\n",
              "18  #MOGG: #JacobReesMogg calls for @USER to #Chuc...      0\n",
              "19  @USER @USER Google needs to lose its 501-3c pr...      1"
            ]
          },
          "metadata": {
            "tags": []
          },
          "execution_count": 5
        }
      ]
    },
    {
      "cell_type": "code",
      "metadata": {
        "colab": {
          "base_uri": "https://localhost:8080/",
          "height": 669
        },
        "id": "LHCEIA2GrpYc",
        "outputId": "3d57bf25-f27c-47d0-a653-f57c919b3576"
      },
      "source": [
        "test_df.head(20)"
      ],
      "execution_count": 6,
      "outputs": [
        {
          "output_type": "execute_result",
          "data": {
            "text/html": [
              "<div>\n",
              "<style scoped>\n",
              "    .dataframe tbody tr th:only-of-type {\n",
              "        vertical-align: middle;\n",
              "    }\n",
              "\n",
              "    .dataframe tbody tr th {\n",
              "        vertical-align: top;\n",
              "    }\n",
              "\n",
              "    .dataframe thead th {\n",
              "        text-align: right;\n",
              "    }\n",
              "</style>\n",
              "<table border=\"1\" class=\"dataframe\">\n",
              "  <thead>\n",
              "    <tr style=\"text-align: right;\">\n",
              "      <th></th>\n",
              "      <th>tweet</th>\n",
              "      <th>class</th>\n",
              "    </tr>\n",
              "  </thead>\n",
              "  <tbody>\n",
              "    <tr>\n",
              "      <th>0</th>\n",
              "      <td>#WhoIsQ #WheresTheServer #DumpNike #DECLASFISA...</td>\n",
              "      <td>0</td>\n",
              "    </tr>\n",
              "    <tr>\n",
              "      <th>1</th>\n",
              "      <td>#ConstitutionDay is revered by Conservatives, ...</td>\n",
              "      <td>1</td>\n",
              "    </tr>\n",
              "    <tr>\n",
              "      <th>2</th>\n",
              "      <td>#FOXNews #NRA #MAGA #POTUS #TRUMP #2ndAmendmen...</td>\n",
              "      <td>1</td>\n",
              "    </tr>\n",
              "    <tr>\n",
              "      <th>3</th>\n",
              "      <td>#Watching #Boomer getting the news that she is...</td>\n",
              "      <td>1</td>\n",
              "    </tr>\n",
              "    <tr>\n",
              "      <th>4</th>\n",
              "      <td>#NoPasaran: Unity demo to oppose the far-right...</td>\n",
              "      <td>0</td>\n",
              "    </tr>\n",
              "    <tr>\n",
              "      <th>5</th>\n",
              "      <td>. . . What the fuck did he do this time?</td>\n",
              "      <td>0</td>\n",
              "    </tr>\n",
              "    <tr>\n",
              "      <th>6</th>\n",
              "      <td>#RAP is a form of ART! Used to express yoursel...</td>\n",
              "      <td>1</td>\n",
              "    </tr>\n",
              "    <tr>\n",
              "      <th>7</th>\n",
              "      <td>@USER Do you get the feeling he is kissing @US...</td>\n",
              "      <td>0</td>\n",
              "    </tr>\n",
              "    <tr>\n",
              "      <th>8</th>\n",
              "      <td>5 Tips to Enhance Audience Connection on Faceb...</td>\n",
              "      <td>1</td>\n",
              "    </tr>\n",
              "    <tr>\n",
              "      <th>9</th>\n",
              "      <td>#BiggBossTamil janani won the task. She is goi...</td>\n",
              "      <td>1</td>\n",
              "    </tr>\n",
              "    <tr>\n",
              "      <th>10</th>\n",
              "      <td>#Conservatives - the party of low taxation 😂 #...</td>\n",
              "      <td>1</td>\n",
              "    </tr>\n",
              "    <tr>\n",
              "      <th>11</th>\n",
              "      <td>𝓒-𝓒𝓮𝓭𝓻𝓪𝓷..  The Nord cannot make a single move...</td>\n",
              "      <td>1</td>\n",
              "    </tr>\n",
              "    <tr>\n",
              "      <th>12</th>\n",
              "      <td>#ConsTOO THE PLACE FOR FED UP CONSERVATIVES !!!</td>\n",
              "      <td>1</td>\n",
              "    </tr>\n",
              "    <tr>\n",
              "      <th>13</th>\n",
              "      <td>#GreatAwakening #QAnon #PatriotsUnited #WWG1WG...</td>\n",
              "      <td>1</td>\n",
              "    </tr>\n",
              "    <tr>\n",
              "      <th>14</th>\n",
              "      <td>@USER Nigga ware da hits at</td>\n",
              "      <td>0</td>\n",
              "    </tr>\n",
              "    <tr>\n",
              "      <th>15</th>\n",
              "      <td>#StopKavanaugh he is liar like the rest of the...</td>\n",
              "      <td>0</td>\n",
              "    </tr>\n",
              "    <tr>\n",
              "      <th>16</th>\n",
              "      <td>#Dayspromo week of September 17th #days #dool ...</td>\n",
              "      <td>1</td>\n",
              "    </tr>\n",
              "    <tr>\n",
              "      <th>17</th>\n",
              "      <td>#BiggBossTelugu2 Let’s all include @USER in al...</td>\n",
              "      <td>1</td>\n",
              "    </tr>\n",
              "    <tr>\n",
              "      <th>18</th>\n",
              "      <td>#Dallas#Policewoman kills neighbor in HIS own ...</td>\n",
              "      <td>1</td>\n",
              "    </tr>\n",
              "    <tr>\n",
              "      <th>19</th>\n",
              "      <td>Always smack URL</td>\n",
              "      <td>1</td>\n",
              "    </tr>\n",
              "  </tbody>\n",
              "</table>\n",
              "</div>"
            ],
            "text/plain": [
              "                                                tweet  class\n",
              "0   #WhoIsQ #WheresTheServer #DumpNike #DECLASFISA...      0\n",
              "1   #ConstitutionDay is revered by Conservatives, ...      1\n",
              "2   #FOXNews #NRA #MAGA #POTUS #TRUMP #2ndAmendmen...      1\n",
              "3   #Watching #Boomer getting the news that she is...      1\n",
              "4   #NoPasaran: Unity demo to oppose the far-right...      0\n",
              "5            . . . What the fuck did he do this time?      0\n",
              "6   #RAP is a form of ART! Used to express yoursel...      1\n",
              "7   @USER Do you get the feeling he is kissing @US...      0\n",
              "8   5 Tips to Enhance Audience Connection on Faceb...      1\n",
              "9   #BiggBossTamil janani won the task. She is goi...      1\n",
              "10  #Conservatives - the party of low taxation 😂 #...      1\n",
              "11  𝓒-𝓒𝓮𝓭𝓻𝓪𝓷..  The Nord cannot make a single move...      1\n",
              "12    #ConsTOO THE PLACE FOR FED UP CONSERVATIVES !!!      1\n",
              "13  #GreatAwakening #QAnon #PatriotsUnited #WWG1WG...      1\n",
              "14                        @USER Nigga ware da hits at      0\n",
              "15  #StopKavanaugh he is liar like the rest of the...      0\n",
              "16  #Dayspromo week of September 17th #days #dool ...      1\n",
              "17  #BiggBossTelugu2 Let’s all include @USER in al...      1\n",
              "18  #Dallas#Policewoman kills neighbor in HIS own ...      1\n",
              "19                                   Always smack URL      1"
            ]
          },
          "metadata": {
            "tags": []
          },
          "execution_count": 6
        }
      ]
    },
    {
      "cell_type": "code",
      "metadata": {
        "id": "WD0Kvp76fT1w"
      },
      "source": [
        "class Dataset(torch.utils.data.Dataset):\n",
        "    def __init__(self, encodings, labels):\n",
        "        self.encodings = encodings\n",
        "        self.labels = labels\n",
        "\n",
        "    def __getitem__(self, idx):\n",
        "        item = {key: torch.tensor(val[idx]) for key, val in self.encodings.items()}\n",
        "        item['labels'] = torch.tensor(self.labels[idx])\n",
        "        return item\n",
        "\n",
        "    def __len__(self):\n",
        "        return len(self.labels)"
      ],
      "execution_count": 7,
      "outputs": []
    },
    {
      "cell_type": "code",
      "metadata": {
        "id": "va2iLEKZfT1w"
      },
      "source": [
        "tokenizer = BertTokenizer.from_pretrained('bert-base-uncased')\n",
        "\n",
        "def load_data(train_texts, train_labels, dev_texts, dev_labels, test_texts, test_labels):\n",
        "    train_encodings = tokenizer(train_texts, padding=True)\n",
        "    dev_encodings = tokenizer(dev_texts, padding=True)\n",
        "    test_encodings = tokenizer(test_texts, padding=True)\n",
        "    \n",
        "    train_dataset = Dataset(train_encodings, train_labels)\n",
        "    dev_dataset = Dataset(dev_encodings, dev_labels)\n",
        "    test_dataset = Dataset(test_encodings, test_labels)\n",
        "    \n",
        "    return train_dataset, dev_dataset, test_dataset"
      ],
      "execution_count": 8,
      "outputs": []
    },
    {
      "cell_type": "code",
      "metadata": {
        "id": "BpF1WLGZBDDv"
      },
      "source": [
        "train_dataset, dev_dataset, test_dataset = load_data(train_texts, train_labels, dev_texts, dev_labels, test_texts, test_labels)\n",
        "train_loader= DataLoader(train_dataset, shuffle=True, batch_size=64)\n",
        "dev_loader= DataLoader(dev_dataset, shuffle=False, batch_size=64)\n",
        "test_loader= DataLoader(test_dataset, shuffle=False, batch_size=64)"
      ],
      "execution_count": 16,
      "outputs": []
    },
    {
      "cell_type": "code",
      "metadata": {
        "colab": {
          "base_uri": "https://localhost:8080/"
        },
        "id": "MRRnkBDCfT1v",
        "outputId": "7c309d91-7b57-4668-c199-193a136c9ed1"
      },
      "source": [
        "model = BertForSequenceClassification.from_pretrained(\"bert-base-uncased\", num_labels = 2)\n",
        "optim = AdamW(model.parameters(), lr=3e-5)"
      ],
      "execution_count": 10,
      "outputs": [
        {
          "output_type": "stream",
          "text": [
            "Some weights of the model checkpoint at bert-base-uncased were not used when initializing BertForSequenceClassification: ['cls.predictions.bias', 'cls.predictions.transform.dense.weight', 'cls.predictions.transform.dense.bias', 'cls.predictions.decoder.weight', 'cls.seq_relationship.weight', 'cls.seq_relationship.bias', 'cls.predictions.transform.LayerNorm.weight', 'cls.predictions.transform.LayerNorm.bias']\n",
            "- This IS expected if you are initializing BertForSequenceClassification from the checkpoint of a model trained on another task or with another architecture (e.g. initializing a BertForSequenceClassification model from a BertForPreTraining model).\n",
            "- This IS NOT expected if you are initializing BertForSequenceClassification from the checkpoint of a model that you expect to be exactly identical (initializing a BertForSequenceClassification model from a BertForSequenceClassification model).\n",
            "Some weights of BertForSequenceClassification were not initialized from the model checkpoint at bert-base-uncased and are newly initialized: ['classifier.weight', 'classifier.bias']\n",
            "You should probably TRAIN this model on a down-stream task to be able to use it for predictions and inference.\n"
          ],
          "name": "stderr"
        }
      ]
    },
    {
      "cell_type": "code",
      "metadata": {
        "colab": {
          "base_uri": "https://localhost:8080/"
        },
        "id": "B3Dz47p2fT1w",
        "outputId": "bc9b0a18-0e5a-48ac-b6b4-249dee88f0f8"
      },
      "source": [
        "%%time\n",
        "\n",
        "# training\n",
        "model.to(device)\n",
        "model.train()\n",
        "\n",
        "for epoch in range(5):\n",
        "    avg_loss = []\n",
        "    for batch in train_loader:\n",
        "        optim.zero_grad()\n",
        "        input_ids = batch['input_ids'].to(device)\n",
        "        attention_mask = batch['attention_mask'].to(device)\n",
        "        labels = batch['labels'].to(device)\n",
        "        outputs = model(input_ids, attention_mask=attention_mask, labels = labels, return_dict=True)\n",
        "        loss = outputs.loss\n",
        "        avg_loss.append(loss.item())\n",
        "        loss.backward()\n",
        "        optim.step()\n",
        "        \n",
        "    print(\"Epoch %d loss =\" %epoch, np.mean(avg_loss))\n",
        "    \n",
        "model_path = \"models\"\n",
        "model.save_pretrained(model_path)\n",
        "tokenizer.save_pretrained(model_path)"
      ],
      "execution_count": 11,
      "outputs": [
        {
          "output_type": "stream",
          "text": [
            "Epoch 0 loss = 0.5072404743834613\n",
            "Epoch 1 loss = 0.37421535059092514\n",
            "Epoch 2 loss = 0.2797821102773442\n",
            "Epoch 3 loss = 0.16097421380367508\n",
            "Epoch 4 loss = 0.0908194950876389\n",
            "CPU times: user 13min 41s, sys: 14min 20s, total: 28min 2s\n",
            "Wall time: 27min 59s\n"
          ],
          "name": "stdout"
        }
      ]
    },
    {
      "cell_type": "code",
      "metadata": {
        "id": "6ztybpgwNuU6"
      },
      "source": [
        "# evaluation with development set\n",
        "model.eval()\n",
        "dev_preds = []\n",
        "with torch.no_grad():\n",
        "    for batch in dev_loader:\n",
        "        input_ids = batch['input_ids'].to(device)\n",
        "        attention_mask = batch['attention_mask'].to(device)\n",
        "        outputs=model(input_ids, attention_mask=attention_mask, return_dict=True)\n",
        "        logits = outputs.logits\n",
        "        prob = torch.softmax(logits, dim=1).tolist()\n",
        "        pred = [p.index(max(p)) for p in prob]\n",
        "        dev_preds += pred"
      ],
      "execution_count": 17,
      "outputs": []
    },
    {
      "cell_type": "code",
      "metadata": {
        "colab": {
          "base_uri": "https://localhost:8080/"
        },
        "id": "SPOp9QXsN5jn",
        "outputId": "2910fe0d-eb13-480e-fec1-d247e31d0adf"
      },
      "source": [
        "fscore = f1_score(dev_preds, dev_labels, average='macro')\n",
        "print(\"The development F1 score is:\", fscore)"
      ],
      "execution_count": 18,
      "outputs": [
        {
          "output_type": "stream",
          "text": [
            "The development F1 score is: 0.7437481619633877\n"
          ],
          "name": "stdout"
        }
      ]
    },
    {
      "cell_type": "code",
      "metadata": {
        "id": "0MxuBG--fT1x"
      },
      "source": [
        "# evaluation with testing set\n",
        "model.eval()\n",
        "test_preds = []\n",
        "with torch.no_grad():\n",
        "    for batch in test_loader:\n",
        "        input_ids = batch['input_ids'].to(device)\n",
        "        attention_mask = batch['attention_mask'].to(device)\n",
        "        outputs=model(input_ids, attention_mask=attention_mask, return_dict=True)\n",
        "        logits = outputs.logits\n",
        "        prob = torch.softmax(logits, dim=1).tolist()\n",
        "        pred = [p.index(max(p)) for p in prob]\n",
        "        test_preds += pred"
      ],
      "execution_count": 14,
      "outputs": []
    },
    {
      "cell_type": "code",
      "metadata": {
        "colab": {
          "base_uri": "https://localhost:8080/"
        },
        "id": "Ir5DvnU2fT1x",
        "outputId": "49737504-6b7f-4268-ef2c-407b70a86ef8"
      },
      "source": [
        "fscore = f1_score(test_preds, test_labels, average='macro')\n",
        "print(\"The training F1 score is:\", fscore)"
      ],
      "execution_count": 15,
      "outputs": [
        {
          "output_type": "stream",
          "text": [
            "The training F1 score is: 0.7751694273322651\n"
          ],
          "name": "stdout"
        }
      ]
    },
    {
      "cell_type": "code",
      "metadata": {
        "id": "iS9UTSslfT1x"
      },
      "source": [
        ""
      ],
      "execution_count": 15,
      "outputs": []
    }
  ]
}