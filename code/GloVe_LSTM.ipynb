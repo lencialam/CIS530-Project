{
  "nbformat": 4,
  "nbformat_minor": 0,
  "metadata": {
    "colab": {
      "name": "Copy of OLIC_Classification_GloVe_LSTM.ipynb",
      "provenance": [],
      "collapsed_sections": [],
      "toc_visible": true
    },
    "kernelspec": {
      "name": "python3",
      "display_name": "Python 3"
    },
    "accelerator": "GPU"
  },
  "cells": [
    {
      "cell_type": "code",
      "metadata": {
        "id": "6pkvGyUqqCMG",
        "colab": {
          "base_uri": "https://localhost:8080/"
        },
        "outputId": "0bc16899-e915-41cb-f033-9db0eb8b46d7"
      },
      "source": [
        "from google.colab import drive\n",
        "drive.mount('/content/drive',force_remount=True)"
      ],
      "execution_count": 1,
      "outputs": [
        {
          "output_type": "stream",
          "text": [
            "Mounted at /content/drive\n"
          ],
          "name": "stdout"
        }
      ]
    },
    {
      "cell_type": "code",
      "metadata": {
        "id": "Nifo-yegqBrd",
        "colab": {
          "base_uri": "https://localhost:8080/"
        },
        "outputId": "310b856d-b366-4726-9f52-0d842a5f647d"
      },
      "source": [
        "cd /content/drive/My Drive/OLID"
      ],
      "execution_count": 2,
      "outputs": [
        {
          "output_type": "stream",
          "text": [
            "/content/drive/My Drive/OLID\n"
          ],
          "name": "stdout"
        }
      ]
    },
    {
      "cell_type": "code",
      "metadata": {
        "id": "PIZVWJBiqPth",
        "colab": {
          "base_uri": "https://localhost:8080/"
        },
        "outputId": "f0d05416-79ae-4f86-b23d-6eb091f205aa"
      },
      "source": [
        "ls"
      ],
      "execution_count": 3,
      "outputs": [
        {
          "output_type": "stream",
          "text": [
            "dev.csv            labels-levela.csv       testset-levela.tsv\n",
            "glove.6B.100d.txt  olid-training-v1.0.tsv  train.csv\n",
            "glove.6B.200d.txt  test.csv\n"
          ],
          "name": "stdout"
        }
      ]
    },
    {
      "cell_type": "code",
      "metadata": {
        "id": "fnOwTGAXpLvI",
        "colab": {
          "base_uri": "https://localhost:8080/"
        },
        "outputId": "50b2bf8e-431c-4bea-bb15-e8698ae098bd"
      },
      "source": [
        "import re\n",
        "import nltk\n",
        "import numpy as np\n",
        "import pandas as pd\n",
        "from nltk.corpus import stopwords\n",
        "from nltk.stem import WordNetLemmatizer\n",
        "import string\n",
        "from gensim import downloader\n",
        "\n",
        "nltk.download('stopwords')\n",
        "nltk.download('wordnet')\n",
        "stop_words = set(stopwords.words(\"english\"))\n",
        "lemmatizer = WordNetLemmatizer()\n"
      ],
      "execution_count": 4,
      "outputs": [
        {
          "output_type": "stream",
          "text": [
            "[nltk_data] Downloading package stopwords to /root/nltk_data...\n",
            "[nltk_data]   Unzipping corpora/stopwords.zip.\n",
            "[nltk_data] Downloading package wordnet to /root/nltk_data...\n",
            "[nltk_data]   Unzipping corpora/wordnet.zip.\n"
          ],
          "name": "stdout"
        }
      ]
    },
    {
      "cell_type": "code",
      "metadata": {
        "id": "5REq0NOKfLIs"
      },
      "source": [
        "def embed(tweet):\n",
        "    tweet = tweet.lower()\n",
        "    tweet = re.sub(\"@user\", \"\", tweet)\n",
        "    tweet = re.sub(r\"[^A-Za-z]\", \" \", tweet)\n",
        "    tweet = re.sub(\"url\", \"\", tweet) # remove url\n",
        "    tokens = tweet.split(\" \")\n",
        "    tokens = [lemmatizer.lemmatize(token) for token in tokens]\n",
        "    tokens = [token for token in tokens if token and not token in stop_words]\n",
        "    tokens=\" \".join(tokens)\n",
        "    return tokens\n"
      ],
      "execution_count": 13,
      "outputs": []
    },
    {
      "cell_type": "code",
      "metadata": {
        "id": "xrGhxrMifMED"
      },
      "source": [
        "# Load train data\n",
        "train_df = pd.read_csv('/content/drive/MyDrive/OLID/train.csv')\n",
        "train_data, y_train = train_df[\"tweet\"], train_df[\"class\"]\n",
        "# load dev data\n",
        "dev_df = pd.read_csv('/content/drive/MyDrive/OLID/dev.csv')\n",
        "dev_data, y_dev = dev_df[\"tweet\"], dev_df[\"class\"]\n",
        "# load test data\n",
        "test_df = pd.read_csv('/content/drive/MyDrive/OLID/test.csv')\n",
        "test_data, y_test = test_df[\"tweet\"], test_df[\"class\"]\n",
        "\n",
        "# Constructing the vectorized features\n",
        "X_train = train_data.apply(lambda x: embed(x))\n",
        "X_dev = dev_data.apply(lambda x: embed(x))\n",
        "X_test = test_data.apply(lambda x: embed(x))"
      ],
      "execution_count": 43,
      "outputs": []
    },
    {
      "cell_type": "code",
      "metadata": {
        "id": "yWPLOBaUrD5e"
      },
      "source": [
        "from keras.preprocessing.text import Tokenizer\n",
        "from keras.preprocessing import sequence\n",
        "max_words = 10000 #frequency of words to be kept\n",
        "max_len = 200\n",
        "\n",
        "tokenize = Tokenizer(num_words=max_words)\n",
        "tokenize.fit_on_texts(X_train)\n",
        "sequences = tokenize.texts_to_sequences(X_train)\n",
        "word_index = tokenize.word_index\n",
        "sequences_matrix = sequence.pad_sequences(sequences,maxlen=max_len)"
      ],
      "execution_count": 44,
      "outputs": []
    },
    {
      "cell_type": "code",
      "metadata": {
        "id": "TyxVJQ45rSW3",
        "colab": {
          "base_uri": "https://localhost:8080/"
        },
        "outputId": "14edc50d-24cc-425a-ea53-cfc08f97786e"
      },
      "source": [
        "import os\n",
        "embeddings_index = {}\n",
        "f = open('glove.6B.200d.txt',encoding='utf8')\n",
        "for line in f:\n",
        "    values = line.split()\n",
        "    word = values[0]\n",
        "    coefs = np.asarray(values[1:], dtype='float32')\n",
        "    embeddings_index[word] = coefs\n",
        "f.close()\n",
        "\n",
        "print('Found %s word vectors.' % len(embeddings_index))"
      ],
      "execution_count": 45,
      "outputs": [
        {
          "output_type": "stream",
          "text": [
            "Found 400000 word vectors.\n"
          ],
          "name": "stdout"
        }
      ]
    },
    {
      "cell_type": "code",
      "metadata": {
        "id": "2Dwdxvp1rV6N",
        "colab": {
          "base_uri": "https://localhost:8080/"
        },
        "outputId": "ba03bee1-01e3-4a39-9444-c2483485c98f"
      },
      "source": [
        "num_words = min(max_words, len(word_index)) + 1\n",
        "print(num_words)\n",
        "\n",
        "embedding_dim = 200\n",
        "\n",
        "# first create a matrix of zeros, this is our embedding matrix\n",
        "embedding_matrix = np.zeros((num_words, embedding_dim))\n",
        "\n",
        "# for each word in out tokenizer lets try to find that work in our w2v model\n",
        "for word, i in word_index.items():\n",
        "    if i > max_words:\n",
        "        continue\n",
        "    embedding_vector = embeddings_index.get(word)\n",
        "    if embedding_vector is not None:\n",
        "        # we found the word - add that words vector to the matrix\n",
        "        embedding_matrix[i] = embedding_vector\n",
        "    else:\n",
        "        # doesn't exist, assign a random vector\n",
        "        embedding_matrix[i] = np.random.randn(embedding_dim)"
      ],
      "execution_count": 46,
      "outputs": [
        {
          "output_type": "stream",
          "text": [
            "10001\n"
          ],
          "name": "stdout"
        }
      ]
    },
    {
      "cell_type": "code",
      "metadata": {
        "colab": {
          "base_uri": "https://localhost:8080/"
        },
        "id": "KxoQ_3qR4r7G",
        "outputId": "43e9ebc8-2809-4e68-ffe1-be3a0ed8331e"
      },
      "source": [
        "from keras.models import Sequential\n",
        "from keras.layers import Embedding,LSTM,Dense,Dropout,Bidirectional,GlobalMaxPool1D,GlobalAveragePooling1D, SpatialDropout1D\n",
        "from keras.optimizers import RMSprop\n",
        "from keras.initializers import Constant\n",
        "from sklearn.utils import class_weight\n",
        "import tensorflow as tf\n",
        "\n",
        "model = Sequential()\n",
        "model.add(Embedding(num_words,\n",
        "                    embedding_dim,\n",
        "                    embeddings_initializer=Constant(embedding_matrix),\n",
        "                    input_length=max_len,\n",
        "                    trainable=True))\n",
        "model.add((LSTM(64, return_sequences = True)))\n",
        "model.add(GlobalMaxPool1D())\n",
        "\n",
        "model.add(Dropout(0.5))\n",
        "model.add(Dense(1, activation=\"sigmoid\"))\n",
        "model.compile(loss='binary_crossentropy', optimizer='rmsprop', metrics=['accuracy'])\n",
        "\n",
        "\n",
        "class_weights = class_weight.compute_class_weight('balanced',np.unique(y_train),y_train)\n",
        "class_weights=dict(enumerate(class_weights))\n",
        "model.fit(sequences_matrix,y_train,batch_size=128,epochs=5,verbose=2,class_weight=class_weights)"
      ],
      "execution_count": 57,
      "outputs": [
        {
          "output_type": "stream",
          "text": [
            "Epoch 1/5\n",
            "94/94 - 4s - loss: 0.6166 - accuracy: 0.6694\n",
            "Epoch 2/5\n",
            "94/94 - 2s - loss: 0.5368 - accuracy: 0.7581\n",
            "Epoch 3/5\n",
            "94/94 - 2s - loss: 0.5002 - accuracy: 0.7807\n",
            "Epoch 4/5\n",
            "94/94 - 2s - loss: 0.4663 - accuracy: 0.8018\n",
            "Epoch 5/5\n",
            "94/94 - 2s - loss: 0.4396 - accuracy: 0.8158\n"
          ],
          "name": "stdout"
        },
        {
          "output_type": "execute_result",
          "data": {
            "text/plain": [
              "<tensorflow.python.keras.callbacks.History at 0x7fb8d4067190>"
            ]
          },
          "metadata": {
            "tags": []
          },
          "execution_count": 57
        }
      ]
    },
    {
      "cell_type": "code",
      "metadata": {
        "colab": {
          "base_uri": "https://localhost:8080/"
        },
        "id": "7SUVhrlsFSe1",
        "outputId": "1f0859fe-264c-40d7-818a-a89ea11f5607"
      },
      "source": [
        "model.summary()"
      ],
      "execution_count": 58,
      "outputs": [
        {
          "output_type": "stream",
          "text": [
            "Model: \"sequential_4\"\n",
            "_________________________________________________________________\n",
            "Layer (type)                 Output Shape              Param #   \n",
            "=================================================================\n",
            "embedding_4 (Embedding)      (None, 200, 200)          2000200   \n",
            "_________________________________________________________________\n",
            "lstm_4 (LSTM)                (None, 200, 64)           67840     \n",
            "_________________________________________________________________\n",
            "global_max_pooling1d (Global (None, 64)                0         \n",
            "_________________________________________________________________\n",
            "dropout_4 (Dropout)          (None, 64)                0         \n",
            "_________________________________________________________________\n",
            "dense_4 (Dense)              (None, 1)                 65        \n",
            "=================================================================\n",
            "Total params: 2,068,105\n",
            "Trainable params: 2,068,105\n",
            "Non-trainable params: 0\n",
            "_________________________________________________________________\n"
          ],
          "name": "stdout"
        }
      ]
    },
    {
      "cell_type": "code",
      "metadata": {
        "id": "1BD-ntr8rznW",
        "colab": {
          "base_uri": "https://localhost:8080/"
        },
        "outputId": "bfaefb15-9518-4fbd-b502-593829b3b726"
      },
      "source": [
        "dev_sequences = tokenize.texts_to_sequences(X_dev)\n",
        "dev_sequences_matrix = sequence.pad_sequences(dev_sequences,maxlen=max_len)\n",
        "print(model.evaluate(dev_sequences_matrix,y_dev))\n",
        "\n",
        "test_sequences = tokenize.texts_to_sequences(X_test)\n",
        "test_sequences_matrix = sequence.pad_sequences(test_sequences,maxlen=max_len)\n",
        "print(model.evaluate(test_sequences_matrix,y_test))"
      ],
      "execution_count": 100,
      "outputs": [
        {
          "output_type": "stream",
          "text": [
            "42/42 [==============================] - 0s 8ms/step - loss: 0.5433 - accuracy: 0.7432\n",
            "[0.5433407425880432, 0.7432023882865906]\n",
            "27/27 [==============================] - 0s 7ms/step - loss: 0.4636 - accuracy: 0.7872\n",
            "[0.4636443853378296, 0.7872093319892883]\n"
          ],
          "name": "stdout"
        }
      ]
    },
    {
      "cell_type": "code",
      "metadata": {
        "id": "u-fKEe-4rzp4",
        "colab": {
          "base_uri": "https://localhost:8080/"
        },
        "outputId": "e455cac9-1c7d-4ba2-f331-d9c7e61e3cd8"
      },
      "source": [
        "from sklearn.metrics import classification_report\n",
        "y_pred_dev = model.predict(dev_sequences_matrix, batch_size=128, verbose=1)\n",
        "y_pred_bool = np.argmax(y_pred_dev, axis=1)\n",
        "y_pred_dev = np.where(y_pred_dev > 0.5, 1, 0)\n",
        "print(classification_report(y_dev, y_pred_dev))\n"
      ],
      "execution_count": 102,
      "outputs": [
        {
          "output_type": "stream",
          "text": [
            "11/11 [==============================] - 0s 11ms/step\n",
            "              precision    recall  f1-score   support\n",
            "\n",
            "           0       0.61      0.67      0.64       444\n",
            "           1       0.82      0.78      0.80       880\n",
            "\n",
            "    accuracy                           0.74      1324\n",
            "   macro avg       0.71      0.72      0.72      1324\n",
            "weighted avg       0.75      0.74      0.75      1324\n",
            "\n"
          ],
          "name": "stdout"
        }
      ]
    },
    {
      "cell_type": "code",
      "metadata": {
        "colab": {
          "base_uri": "https://localhost:8080/"
        },
        "id": "3SRAe-_0-XAN",
        "outputId": "ccde956b-038e-4807-8b86-31a2e3633da1"
      },
      "source": [
        "y_pred_test = model.predict(test_sequences_matrix, batch_size=128, verbose=1)\n",
        "y_pred_bool = np.argmax(y_pred_test, axis=1)\n",
        "y_pred_test = np.where(y_pred_test > 0.5, 1, 0)\n",
        "\n",
        "print(classification_report(y_test, y_pred_test))"
      ],
      "execution_count": 103,
      "outputs": [
        {
          "output_type": "stream",
          "text": [
            "7/7 [==============================] - 0s 12ms/step\n",
            "              precision    recall  f1-score   support\n",
            "\n",
            "           0       0.61      0.67      0.64       240\n",
            "           1       0.87      0.83      0.85       620\n",
            "\n",
            "    accuracy                           0.79       860\n",
            "   macro avg       0.74      0.75      0.74       860\n",
            "weighted avg       0.79      0.79      0.79       860\n",
            "\n"
          ],
          "name": "stdout"
        }
      ]
    },
    {
      "cell_type": "code",
      "metadata": {
        "id": "QKnd5GBJA8Po"
      },
      "source": [
        "# output test_labels.txt\n",
        "np.savetxt(\"{}.txt\".format('lstm_dev_preds'), y_pred_dev, fmt='%i', newline=\"\\n\")\n",
        "np.savetxt(\"{}.txt\".format('lstm_test_preds'), y_pred_test, fmt='%i', newline=\"\\n\")"
      ],
      "execution_count": 113,
      "outputs": []
    },
    {
      "cell_type": "code",
      "metadata": {
        "id": "72QjwwRRrzsu"
      },
      "source": [
        "import keras\n",
        "keras.backend.clear_session()"
      ],
      "execution_count": null,
      "outputs": []
    }
  ]
}